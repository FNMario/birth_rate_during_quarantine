{
 "cells": [
  {
   "cell_type": "markdown",
   "metadata": {},
   "source": [
    "### Libraries"
   ]
  },
  {
   "cell_type": "code",
   "execution_count": 1,
   "metadata": {},
   "outputs": [],
   "source": [
    "import pandas as pd\n",
    "import janitor\n",
    "import matplotlib.pyplot as plt"
   ]
  },
  {
   "cell_type": "markdown",
   "metadata": {},
   "source": [
    "# Import the dataset"
   ]
  },
  {
   "cell_type": "markdown",
   "metadata": {},
   "source": [
    "## About the dataset"
   ]
  },
  {
   "cell_type": "markdown",
   "metadata": {},
   "source": [
    "### Download\n",
    "The dataset is an open dataset downloaded from [datos.gob.ar](https://datos.gob.ar/dataset/salud-tasa-natalidad/archivo/salud_0f68d5c6-e667-40ca-90fd-4784336e092e).\n",
    "```shell\n",
    "wget http://datos.salud.gob.ar/dataset/314e08d7-70a1-4704-aa2f-e86ce03b359d/resource/0f68d5c6-e667-40ca-90fd-4784336e092e/download/tasa-natalidad-deis-2000-2021.csv\n",
    "```\n",
    "### Description\n",
    "Contains the birth rate by province between 2000 and 2021.\n",
    "\n",
    "| Variable | Type | Description |\n",
    "|---|---|---|\n",
    "| indice_tiempo | Fecha ISO-8601 (date)|Periodo de tiempo analizado |\n",
    "| natalidad_argentina | Número decimal (number)|Tasa de Natalidad de Argentina Nacidos |\n",
    "| natalidad_ciudad_autonoma_de_buenos_aires | Número decimal (number)|Tasa de Natalidad de Ciudad Autónoma de Buenos Aires Nacidos |\n",
    "| natalidad_buenos_aires | Número decimal (number)|Tasa de Natalidad de la Provincia de Buenos Aires Nacidos |\n",
    "| natalidad_catamarca | Número decimal (number)|Tasa de Natalidad de la Provincia de Catamarca Nacidos |\n",
    "| natalidad_cordoba | Número decimal (number)|Tasa de Natalidad de la Provincia de Córdoba Nacidos |\n",
    "| natalidad_corrientes | Número decimal (number)|Tasa de Natalidad de la Provincia de Corrientes Nacidos |\n",
    "| natalidad_chaco | Número decimal (number)|Tasa de Natalidad de la Provincia de Chaco Nacidos |\n",
    "| natalidad_chubut | Número decimal (number)|Tasa de Natalidad de la Provincia de Chubut Nacidos |\n",
    "| natalidad_entre_rios | Número decimal (number)|Tasa de Natalidad de la Provincia de Entre Ríos Nacidos |\n",
    "| natalidad_formosa | Número decimal (number)|Tasa de Natalidad de la Provincia de Formosa Nacidos |\n",
    "| natalidad_jujuy | Número decimal (number)|Tasa de Natalidad de la Provincia de Jujuy Nacidos |\n",
    "| natalidad_la_pampa | Número decimal (number)|Tasa de Natalidad de la Provincia de La Pampa Nacidos |\n",
    "| natalidad_la_rioja | Número decimal (number)|Tasa de Natalidad de la Provincia de La Rioja Nacidos |\n",
    "| natalidad_mendoza | Número decimal (number)|Tasa de Natalidad de la Provincia de Mendoza Nacidos |\n",
    "| natalidad_misiones | Número decimal (number)|Tasa de Natalidad de la Provincia de Misiones Nacidos |\n",
    "| natalidad_neuquen | Número decimal (number)|Tasa de Natalidad de la Provincia de Neuquen Nacidos |\n",
    "| natalidad_rio_negro | Número decimal (number)|Tasa de Natalidad de la Provincia de Río Negro Nacidos |\n",
    "| natalidad_salta | Número decimal (number)|Tasa de Natalidad de la Provincia de Salta Nacidos |\n",
    "| natalidad_san_juan | Número decimal (number)|Tasa de Natalidad de la Provincia de San Juan Nacidos |\n",
    "| natalidad_san_luis | Número decimal (number)|Tasa de Natalidad de la Provincia de San Luis Nacidos |\n",
    "| natalidad_santa_cruz | Número decimal (number)|Tasa de Natalidad de la Provincia de Santa Cruz Nacidos |\n",
    "| natalidad_santa_fe | Número decimal (number)|Tasa de Natalidad de la Provincia de Santa Fe Nacidos |\n",
    "| natalidad_santiago_del_estero | Número decimal (number)|Tasa de Natalidad de la Provincia de Santiago del Estero Nacidos |\n",
    "| natalidad_tucuman | Número decimal (number)|Tasa de Natalidad de la Provincia de Tucumán Nacidos |\n",
    "| natalidad_tierra_del_fuego | Número decimal (number)|Tasa de Natalidad de la Provincia de Tierra del Fuego Nacidos |\n"
   ]
  },
  {
   "cell_type": "markdown",
   "metadata": {},
   "source": [
    "## Import"
   ]
  },
  {
   "cell_type": "code",
   "execution_count": 2,
   "metadata": {},
   "outputs": [
    {
     "name": "stdout",
     "output_type": "stream",
     "text": [
      "<class 'pandas.core.frame.DataFrame'>\n",
      "RangeIndex: 522885 entries, 0 to 522884\n",
      "Data columns (total 12 columns):\n",
      " #   Column                         Non-Null Count   Dtype  \n",
      "---  ------                         --------------   -----  \n",
      " 0   anio                           522885 non-null  int64  \n",
      " 1   jurisdiccion_de_residencia_id  522885 non-null  int64  \n",
      " 2   jurisdicion_residencia_nombre  520219 non-null  object \n",
      " 3   edad_madre_grupo               522885 non-null  object \n",
      " 4   instruccion_madre              522885 non-null  object \n",
      " 5   tipo_de_parto_id               522884 non-null  float64\n",
      " 6   tipo_de_parto_nombre           522884 non-null  object \n",
      " 7   semana_gestacion               522885 non-null  object \n",
      " 8   intervalo_peso_al_nacer        522885 non-null  object \n",
      " 9   sexo_id                        522885 non-null  int64  \n",
      " 10  Sexo                           522885 non-null  object \n",
      " 11  nacimientos_cantidad           522885 non-null  int64  \n",
      "dtypes: float64(1), int64(4), object(7)\n",
      "memory usage: 47.9+ MB\n"
     ]
    }
   ],
   "source": [
    "df_raw = pd.read_csv(r'../datasets/nacidos-vivos-registrados-en-la-republica-argentina-deis-entre-los-anos-2005-2021.csv',encoding=\"latin\")\n",
    "df_raw.info()"
   ]
  },
  {
   "cell_type": "markdown",
   "metadata": {},
   "source": [
    "## Rename some comlumns"
   ]
  },
  {
   "cell_type": "code",
   "execution_count": 3,
   "metadata": {},
   "outputs": [
    {
     "data": {
      "text/plain": [
       "['anio',\n",
       " 'jurisdiccion_de_residencia_id',\n",
       " 'jurisdicion_residencia_nombre',\n",
       " 'edad_madre_grupo',\n",
       " 'instruccion_madre',\n",
       " 'tipo_de_parto_id',\n",
       " 'tipo_de_parto_nombre',\n",
       " 'semana_gestacion',\n",
       " 'intervalo_peso_al_nacer',\n",
       " 'sexo_id',\n",
       " 'Sexo',\n",
       " 'nacimientos_cantidad']"
      ]
     },
     "execution_count": 3,
     "metadata": {},
     "output_type": "execute_result"
    }
   ],
   "source": [
    "df_raw.columns.tolist()"
   ]
  },
  {
   "cell_type": "code",
   "execution_count": 4,
   "metadata": {},
   "outputs": [
    {
     "name": "stderr",
     "output_type": "stream",
     "text": [
      "/home/federico/Documents/PersonalProyects/birth_rate_during_quarantine/env/lib/python3.10/site-packages/pandas_flavor/register.py:157: FutureWarning: This function will be deprecated in a 1.x release. Please use `pd.DataFrame.rename` instead.\n",
      "  return method(self._obj, *args, **kwargs)\n"
     ]
    }
   ],
   "source": [
    "df_raw = df_raw.rename_columns({\n",
    "    'jurisdiccion_de_residencia_id':'jurisdiccion_residencia_id',\n",
    "    'jurisdicion_residencia_nombre':'jurisdiccion_residencia_nombre',\n",
    "    'Sexo':'sexo'\n",
    "})"
   ]
  },
  {
   "cell_type": "code",
   "execution_count": 5,
   "metadata": {},
   "outputs": [],
   "source": [
    "columns = df_raw.columns.to_list()"
   ]
  },
  {
   "cell_type": "markdown",
   "metadata": {},
   "source": [
    "# Cleaning"
   ]
  },
  {
   "cell_type": "markdown",
   "metadata": {},
   "source": [
    "## Grouping"
   ]
  },
  {
   "cell_type": "code",
   "execution_count": 6,
   "metadata": {},
   "outputs": [
    {
     "name": "stdout",
     "output_type": "stream",
     "text": [
      "Number of columns with null: 3\n"
     ]
    },
    {
     "name": "stderr",
     "output_type": "stream",
     "text": [
      "/home/federico/Documents/PersonalProyects/birth_rate_during_quarantine/env/lib/python3.10/site-packages/pandas_flavor/register.py:157: FutureWarning: This function will be deprecated in a 1.x release. Please use `pd.DataFrame.rename` instead.\n",
      "  return method(self._obj, *args, **kwargs)\n"
     ]
    },
    {
     "data": {
      "text/html": [
       "<div>\n",
       "<style scoped>\n",
       "    .dataframe tbody tr th:only-of-type {\n",
       "        vertical-align: middle;\n",
       "    }\n",
       "\n",
       "    .dataframe tbody tr th {\n",
       "        vertical-align: top;\n",
       "    }\n",
       "\n",
       "    .dataframe thead th {\n",
       "        text-align: right;\n",
       "    }\n",
       "</style>\n",
       "<table border=\"1\" class=\"dataframe\">\n",
       "  <thead>\n",
       "    <tr style=\"text-align: right;\">\n",
       "      <th></th>\n",
       "      <th>column</th>\n",
       "      <th>has_null</th>\n",
       "    </tr>\n",
       "  </thead>\n",
       "  <tbody>\n",
       "    <tr>\n",
       "      <th>0</th>\n",
       "      <td>anio</td>\n",
       "      <td>False</td>\n",
       "    </tr>\n",
       "    <tr>\n",
       "      <th>1</th>\n",
       "      <td>jurisdiccion_residencia_id</td>\n",
       "      <td>False</td>\n",
       "    </tr>\n",
       "    <tr>\n",
       "      <th>2</th>\n",
       "      <td>jurisdiccion_residencia_nombre</td>\n",
       "      <td>True</td>\n",
       "    </tr>\n",
       "    <tr>\n",
       "      <th>3</th>\n",
       "      <td>edad_madre_grupo</td>\n",
       "      <td>False</td>\n",
       "    </tr>\n",
       "    <tr>\n",
       "      <th>4</th>\n",
       "      <td>instruccion_madre</td>\n",
       "      <td>False</td>\n",
       "    </tr>\n",
       "    <tr>\n",
       "      <th>5</th>\n",
       "      <td>tipo_de_parto_id</td>\n",
       "      <td>True</td>\n",
       "    </tr>\n",
       "    <tr>\n",
       "      <th>6</th>\n",
       "      <td>tipo_de_parto_nombre</td>\n",
       "      <td>True</td>\n",
       "    </tr>\n",
       "    <tr>\n",
       "      <th>7</th>\n",
       "      <td>semana_gestacion</td>\n",
       "      <td>False</td>\n",
       "    </tr>\n",
       "    <tr>\n",
       "      <th>8</th>\n",
       "      <td>intervalo_peso_al_nacer</td>\n",
       "      <td>False</td>\n",
       "    </tr>\n",
       "    <tr>\n",
       "      <th>9</th>\n",
       "      <td>sexo_id</td>\n",
       "      <td>False</td>\n",
       "    </tr>\n",
       "    <tr>\n",
       "      <th>10</th>\n",
       "      <td>sexo</td>\n",
       "      <td>False</td>\n",
       "    </tr>\n",
       "    <tr>\n",
       "      <th>11</th>\n",
       "      <td>nacimientos_cantidad</td>\n",
       "      <td>False</td>\n",
       "    </tr>\n",
       "  </tbody>\n",
       "</table>\n",
       "</div>"
      ],
      "text/plain": [
       "                            column  has_null\n",
       "0                             anio     False\n",
       "1       jurisdiccion_residencia_id     False\n",
       "2   jurisdiccion_residencia_nombre      True\n",
       "3                 edad_madre_grupo     False\n",
       "4                instruccion_madre     False\n",
       "5                 tipo_de_parto_id      True\n",
       "6             tipo_de_parto_nombre      True\n",
       "7                 semana_gestacion     False\n",
       "8          intervalo_peso_al_nacer     False\n",
       "9                          sexo_id     False\n",
       "10                            sexo     False\n",
       "11            nacimientos_cantidad     False"
      ]
     },
     "execution_count": 6,
     "metadata": {},
     "output_type": "execute_result"
    }
   ],
   "source": [
    "(\n",
    "    df_raw\n",
    "    .isnull()\n",
    "    .any(axis=0)\n",
    "    .reset_index(name='has_null')\n",
    "    .rename_column('index', 'column')\n",
    "    .also(lambda df: print(f'Number of columns with null: {df.iloc[:,1].sum()}'))\n",
    ")"
   ]
  },
  {
   "cell_type": "markdown",
   "metadata": {},
   "source": [
    "It will be analized in groups"
   ]
  },
  {
   "cell_type": "code",
   "execution_count": 7,
   "metadata": {},
   "outputs": [],
   "source": [
    "year = 'anio'\n",
    "jurisdiction = {'id'    :'jurisdiccion_residencia_id',\n",
    "                'nombre':'jurisdiccion_residencia_nombre'}\n",
    "labor = ['tipo_de_parto_id',\n",
    "         'tipo_de_parto_nombre']\n",
    "others = ['edad_madre_grupo',\n",
    "          'instruccion_madre',\n",
    "          'semana_gestacion',\n",
    "          'intervalo_peso_al_nacer',\n",
    "          'sexo',\n",
    "          'sexo_id',\n",
    "          'nacimientos_cantidad']\n",
    "\n"
   ]
  },
  {
   "cell_type": "markdown",
   "metadata": {},
   "source": [
    "## Year's distribution"
   ]
  },
  {
   "cell_type": "code",
   "execution_count": 8,
   "metadata": {},
   "outputs": [
    {
     "data": {
      "text/plain": [
       "<Axes: xlabel='anio'>"
      ]
     },
     "execution_count": 8,
     "metadata": {},
     "output_type": "execute_result"
    },
    {
     "data": {
      "image/png": "[encoded data removed]",
      "text/plain": [
       "<Figure size 640x480 with 1 Axes>"
      ]
     },
     "metadata": {},
     "output_type": "display_data"
    }
   ],
   "source": [
    "(\n",
    "    df_raw[year]\n",
    "    .value_counts()\n",
    "    .sort_index()\n",
    "    .plot\n",
    "    .bar()\n",
    ")"
   ]
  },
  {
   "cell_type": "markdown",
   "metadata": {},
   "source": [
    "Looks right"
   ]
  },
  {
   "cell_type": "markdown",
   "metadata": {},
   "source": [
    "## Jurisdiction"
   ]
  },
  {
   "cell_type": "code",
   "execution_count": 9,
   "metadata": {},
   "outputs": [
    {
     "data": {
      "text/plain": [
       "2666"
      ]
     },
     "execution_count": 9,
     "metadata": {},
     "output_type": "execute_result"
    }
   ],
   "source": [
    "df_raw[jurisdiction['nombre']].isnull().sum()"
   ]
  },
  {
   "cell_type": "code",
   "execution_count": 10,
   "metadata": {},
   "outputs": [
    {
     "data": {
      "text/plain": [
       "array(['Santa Fe', 'Ciudad Autónoma de Buenos Aires', 'Río Negro',\n",
       "       'Chaco', 'Mendoza', 'La Pampa', 'Corrientes', 'Buenos Aires',\n",
       "       'Chubut', 'Salta', 'Córdoba', 'Formosa', 'Misiones',\n",
       "       'Santiago del Estero', 'San Luis', nan, 'Catamarca', 'Santa Cruz',\n",
       "       'Entre Ríos', 'San Juan', 'Jujuy', 'Tucumán', 'Neuquén',\n",
       "       'La Rioja',\n",
       "       'Tierra del Fuego, Antártida e Islas del Atlántico Sur',\n",
       "       'Sin Información'], dtype=object)"
      ]
     },
     "execution_count": 10,
     "metadata": {},
     "output_type": "execute_result"
    }
   ],
   "source": [
    "df_raw[jurisdiction['nombre']].unique()"
   ]
  },
  {
   "cell_type": "code",
   "execution_count": 11,
   "metadata": {},
   "outputs": [
    {
     "data": {
      "text/plain": [
       "0"
      ]
     },
     "execution_count": 11,
     "metadata": {},
     "output_type": "execute_result"
    }
   ],
   "source": [
    "df_raw[jurisdiction['id']].isnull().sum()"
   ]
  },
  {
   "cell_type": "code",
   "execution_count": 12,
   "metadata": {},
   "outputs": [
    {
     "data": {
      "text/plain": [
       "jurisdiccion_residencia_id\n",
       "98    2666\n",
       "Name: count, dtype: int64"
      ]
     },
     "execution_count": 12,
     "metadata": {},
     "output_type": "execute_result"
    }
   ],
   "source": [
    "df_raw[df_raw[jurisdiction['nombre']].isnull()]['jurisdiccion_residencia_id'].value_counts()"
   ]
  },
  {
   "cell_type": "code",
   "execution_count": 13,
   "metadata": {},
   "outputs": [
    {
     "data": {
      "text/plain": [
       "jurisdiccion_residencia_id\n",
       "99    6929\n",
       "Name: count, dtype: int64"
      ]
     },
     "execution_count": 13,
     "metadata": {},
     "output_type": "execute_result"
    }
   ],
   "source": [
    "df_raw[df_raw[jurisdiction['nombre']] == 'Sin Información'][jurisdiction['id']].value_counts()"
   ]
  },
  {
   "cell_type": "markdown",
   "metadata": {},
   "source": [
    "jurisdiction id 98 is converted to 99, equivalent of 'Sin Información' ('no data')"
   ]
  },
  {
   "cell_type": "code",
   "execution_count": 14,
   "metadata": {},
   "outputs": [],
   "source": [
    "df_raw[jurisdiction['nombre']].fillna('Sin Información', inplace=True)\n",
    "df_raw[jurisdiction['id']] = df_raw[jurisdiction['id']].replace(\n",
    "    98, 99)"
   ]
  },
  {
   "cell_type": "code",
   "execution_count": 15,
   "metadata": {},
   "outputs": [
    {
     "name": "stdout",
     "output_type": "stream",
     "text": [
      "Cantidad total: 522885\n"
     ]
    },
    {
     "name": "stderr",
     "output_type": "stream",
     "text": [
      "/home/federico/Documents/PersonalProyects/birth_rate_during_quarantine/env/lib/python3.10/site-packages/pandas_flavor/register.py:157: FutureWarning: This function will be deprecated in a 1.x release. Please use `pd.DataFrame.rename` instead.\n",
      "  return method(self._obj, *args, **kwargs)\n"
     ]
    },
    {
     "data": {
      "text/html": [
       "<div>\n",
       "<style scoped>\n",
       "    .dataframe tbody tr th:only-of-type {\n",
       "        vertical-align: middle;\n",
       "    }\n",
       "\n",
       "    .dataframe tbody tr th {\n",
       "        vertical-align: top;\n",
       "    }\n",
       "\n",
       "    .dataframe thead th {\n",
       "        text-align: right;\n",
       "    }\n",
       "</style>\n",
       "<table border=\"1\" class=\"dataframe\">\n",
       "  <thead>\n",
       "    <tr style=\"text-align: right;\">\n",
       "      <th></th>\n",
       "      <th></th>\n",
       "      <th>cantidad</th>\n",
       "    </tr>\n",
       "    <tr>\n",
       "      <th>jurisdiccion_residencia_id</th>\n",
       "      <th>jurisdiccion_residencia_nombre</th>\n",
       "      <th></th>\n",
       "    </tr>\n",
       "  </thead>\n",
       "  <tbody>\n",
       "    <tr>\n",
       "      <th>6</th>\n",
       "      <th>Buenos Aires</th>\n",
       "      <td>71368</td>\n",
       "    </tr>\n",
       "    <tr>\n",
       "      <th>14</th>\n",
       "      <th>Córdoba</th>\n",
       "      <td>30647</td>\n",
       "    </tr>\n",
       "    <tr>\n",
       "      <th>82</th>\n",
       "      <th>Santa Fe</th>\n",
       "      <td>30492</td>\n",
       "    </tr>\n",
       "    <tr>\n",
       "      <th>2</th>\n",
       "      <th>Ciudad Autónoma de Buenos Aires</th>\n",
       "      <td>29825</td>\n",
       "    </tr>\n",
       "    <tr>\n",
       "      <th>90</th>\n",
       "      <th>Tucumán</th>\n",
       "      <td>27137</td>\n",
       "    </tr>\n",
       "    <tr>\n",
       "      <th>22</th>\n",
       "      <th>Chaco</th>\n",
       "      <td>27079</td>\n",
       "    </tr>\n",
       "    <tr>\n",
       "      <th>18</th>\n",
       "      <th>Corrientes</th>\n",
       "      <td>26312</td>\n",
       "    </tr>\n",
       "    <tr>\n",
       "      <th>54</th>\n",
       "      <th>Misiones</th>\n",
       "      <td>26112</td>\n",
       "    </tr>\n",
       "    <tr>\n",
       "      <th>66</th>\n",
       "      <th>Salta</th>\n",
       "      <td>24708</td>\n",
       "    </tr>\n",
       "    <tr>\n",
       "      <th>30</th>\n",
       "      <th>Entre Ríos</th>\n",
       "      <td>21965</td>\n",
       "    </tr>\n",
       "    <tr>\n",
       "      <th>50</th>\n",
       "      <th>Mendoza</th>\n",
       "      <td>21251</td>\n",
       "    </tr>\n",
       "    <tr>\n",
       "      <th>86</th>\n",
       "      <th>Santiago del Estero</th>\n",
       "      <td>20291</td>\n",
       "    </tr>\n",
       "    <tr>\n",
       "      <th>34</th>\n",
       "      <th>Formosa</th>\n",
       "      <td>16531</td>\n",
       "    </tr>\n",
       "    <tr>\n",
       "      <th>62</th>\n",
       "      <th>Río Negro</th>\n",
       "      <td>15461</td>\n",
       "    </tr>\n",
       "    <tr>\n",
       "      <th>38</th>\n",
       "      <th>Jujuy</th>\n",
       "      <td>15282</td>\n",
       "    </tr>\n",
       "    <tr>\n",
       "      <th>70</th>\n",
       "      <th>San Juan</th>\n",
       "      <td>14916</td>\n",
       "    </tr>\n",
       "    <tr>\n",
       "      <th>58</th>\n",
       "      <th>Neuquén</th>\n",
       "      <td>13913</td>\n",
       "    </tr>\n",
       "    <tr>\n",
       "      <th>10</th>\n",
       "      <th>Catamarca</th>\n",
       "      <td>13330</td>\n",
       "    </tr>\n",
       "    <tr>\n",
       "      <th>74</th>\n",
       "      <th>San Luis</th>\n",
       "      <td>13244</td>\n",
       "    </tr>\n",
       "    <tr>\n",
       "      <th>26</th>\n",
       "      <th>Chubut</th>\n",
       "      <td>12856</td>\n",
       "    </tr>\n",
       "    <tr>\n",
       "      <th>46</th>\n",
       "      <th>La Rioja</th>\n",
       "      <td>11648</td>\n",
       "    </tr>\n",
       "    <tr>\n",
       "      <th>78</th>\n",
       "      <th>Santa Cruz</th>\n",
       "      <td>11589</td>\n",
       "    </tr>\n",
       "    <tr>\n",
       "      <th>42</th>\n",
       "      <th>La Pampa</th>\n",
       "      <td>9980</td>\n",
       "    </tr>\n",
       "    <tr>\n",
       "      <th>99</th>\n",
       "      <th>Sin Información</th>\n",
       "      <td>9595</td>\n",
       "    </tr>\n",
       "    <tr>\n",
       "      <th>94</th>\n",
       "      <th>Tierra del Fuego, Antártida e Islas del Atlántico Sur</th>\n",
       "      <td>7353</td>\n",
       "    </tr>\n",
       "  </tbody>\n",
       "</table>\n",
       "</div>"
      ],
      "text/plain": [
       "                                                                               cantidad\n",
       "jurisdiccion_residencia_id jurisdiccion_residencia_nombre                              \n",
       "6                          Buenos Aires                                           71368\n",
       "14                         Córdoba                                                30647\n",
       "82                         Santa Fe                                               30492\n",
       "2                          Ciudad Autónoma de Buenos Aires                        29825\n",
       "90                         Tucumán                                                27137\n",
       "22                         Chaco                                                  27079\n",
       "18                         Corrientes                                             26312\n",
       "54                         Misiones                                               26112\n",
       "66                         Salta                                                  24708\n",
       "30                         Entre Ríos                                             21965\n",
       "50                         Mendoza                                                21251\n",
       "86                         Santiago del Estero                                    20291\n",
       "34                         Formosa                                                16531\n",
       "62                         Río Negro                                              15461\n",
       "38                         Jujuy                                                  15282\n",
       "70                         San Juan                                               14916\n",
       "58                         Neuquén                                                13913\n",
       "10                         Catamarca                                              13330\n",
       "74                         San Luis                                               13244\n",
       "26                         Chubut                                                 12856\n",
       "46                         La Rioja                                               11648\n",
       "78                         Santa Cruz                                             11589\n",
       "42                         La Pampa                                                9980\n",
       "99                         Sin Información                                         9595\n",
       "94                         Tierra del Fuego, Antártida e Islas del Atlánti...      7353"
      ]
     },
     "execution_count": 15,
     "metadata": {},
     "output_type": "execute_result"
    }
   ],
   "source": [
    "(\n",
    "    df_raw\n",
    "    .loc[:,list(jurisdiction.values()) + ['nacimientos_cantidad']]\n",
    "    .groupby(list(jurisdiction.values()))\n",
    "    .count()\n",
    "    .rename_column('nacimientos_cantidad','cantidad')\n",
    "    .sort_values('cantidad', ascending=False)\n",
    "    # .reset_index()\n",
    "    .also(lambda df: print(f'Cantidad total: {df.cantidad.sum()}'))\n",
    ")"
   ]
  },
  {
   "cell_type": "code",
   "execution_count": 16,
   "metadata": {},
   "outputs": [
    {
     "data": {
      "text/plain": [
       "0"
      ]
     },
     "execution_count": 16,
     "metadata": {},
     "output_type": "execute_result"
    }
   ],
   "source": [
    "df_raw[jurisdiction.values()].isnull().any().sum()"
   ]
  },
  {
   "cell_type": "markdown",
   "metadata": {},
   "source": [
    "## Labor"
   ]
  },
  {
   "cell_type": "code",
   "execution_count": 17,
   "metadata": {},
   "outputs": [
    {
     "name": "stdout",
     "output_type": "stream",
     "text": [
      "Total: 522884\n"
     ]
    },
    {
     "data": {
      "text/html": [
       "<div>\n",
       "<style scoped>\n",
       "    .dataframe tbody tr th:only-of-type {\n",
       "        vertical-align: middle;\n",
       "    }\n",
       "\n",
       "    .dataframe tbody tr th {\n",
       "        vertical-align: top;\n",
       "    }\n",
       "\n",
       "    .dataframe thead th {\n",
       "        text-align: right;\n",
       "    }\n",
       "</style>\n",
       "<table border=\"1\" class=\"dataframe\">\n",
       "  <thead>\n",
       "    <tr style=\"text-align: right;\">\n",
       "      <th></th>\n",
       "      <th>tipo_de_parto_id</th>\n",
       "      <th>tipo_de_parto_nombre</th>\n",
       "      <th>count</th>\n",
       "    </tr>\n",
       "  </thead>\n",
       "  <tbody>\n",
       "    <tr>\n",
       "      <th>0</th>\n",
       "      <td>1.0</td>\n",
       "      <td>Simple</td>\n",
       "      <td>429752</td>\n",
       "    </tr>\n",
       "    <tr>\n",
       "      <th>1</th>\n",
       "      <td>2.0</td>\n",
       "      <td>Multiple</td>\n",
       "      <td>87348</td>\n",
       "    </tr>\n",
       "    <tr>\n",
       "      <th>2</th>\n",
       "      <td>9.0</td>\n",
       "      <td>Desconocido</td>\n",
       "      <td>5784</td>\n",
       "    </tr>\n",
       "  </tbody>\n",
       "</table>\n",
       "</div>"
      ],
      "text/plain": [
       "   tipo_de_parto_id tipo_de_parto_nombre   count\n",
       "0               1.0               Simple  429752\n",
       "1               2.0             Multiple   87348\n",
       "2               9.0          Desconocido    5784"
      ]
     },
     "execution_count": 17,
     "metadata": {},
     "output_type": "execute_result"
    }
   ],
   "source": [
    "(\n",
    "    df_raw[labor]\n",
    "    .value_counts()\n",
    "    .reset_index()\n",
    "    .also(lambda df: print(f\"Total: {df['count'].sum()}\"))\n",
    ")"
   ]
  },
  {
   "cell_type": "code",
   "execution_count": 18,
   "metadata": {},
   "outputs": [
    {
     "name": "stdout",
     "output_type": "stream",
     "text": [
      "tipo_de_parto_id : [ 1.  2.  9. nan]\n",
      "tipo_de_parto_nombre : ['Simple' 'Multiple' 'Desconocido' nan]\n"
     ]
    }
   ],
   "source": [
    "for col in labor:\n",
    "    print(col,':', df_raw[col].unique())"
   ]
  },
  {
   "cell_type": "code",
   "execution_count": 19,
   "metadata": {},
   "outputs": [
    {
     "data": {
      "text/plain": [
       "tipo_de_parto_id        1\n",
       "tipo_de_parto_nombre    1\n",
       "dtype: int64"
      ]
     },
     "execution_count": 19,
     "metadata": {},
     "output_type": "execute_result"
    }
   ],
   "source": [
    "df_raw[labor].isnull().sum()"
   ]
  },
  {
   "cell_type": "code",
   "execution_count": 20,
   "metadata": {},
   "outputs": [
    {
     "data": {
      "text/html": [
       "<div>\n",
       "<style scoped>\n",
       "    .dataframe tbody tr th:only-of-type {\n",
       "        vertical-align: middle;\n",
       "    }\n",
       "\n",
       "    .dataframe tbody tr th {\n",
       "        vertical-align: top;\n",
       "    }\n",
       "\n",
       "    .dataframe thead th {\n",
       "        text-align: right;\n",
       "    }\n",
       "</style>\n",
       "<table border=\"1\" class=\"dataframe\">\n",
       "  <thead>\n",
       "    <tr style=\"text-align: right;\">\n",
       "      <th></th>\n",
       "      <th>anio</th>\n",
       "      <th>jurisdiccion_residencia_id</th>\n",
       "      <th>jurisdiccion_residencia_nombre</th>\n",
       "      <th>edad_madre_grupo</th>\n",
       "      <th>instruccion_madre</th>\n",
       "      <th>tipo_de_parto_id</th>\n",
       "      <th>tipo_de_parto_nombre</th>\n",
       "      <th>semana_gestacion</th>\n",
       "      <th>intervalo_peso_al_nacer</th>\n",
       "      <th>sexo_id</th>\n",
       "      <th>sexo</th>\n",
       "      <th>nacimientos_cantidad</th>\n",
       "    </tr>\n",
       "  </thead>\n",
       "  <tbody>\n",
       "    <tr>\n",
       "      <th>522884</th>\n",
       "      <td>2017</td>\n",
       "      <td>99</td>\n",
       "      <td>Sin Información</td>\n",
       "      <td>9.Sin especificar</td>\n",
       "      <td>8.Sin especificar</td>\n",
       "      <td>NaN</td>\n",
       "      <td>NaN</td>\n",
       "      <td>8.Sin especificar</td>\n",
       "      <td>9.Sin especificar</td>\n",
       "      <td>9</td>\n",
       "      <td>desconocido</td>\n",
       "      <td>10</td>\n",
       "    </tr>\n",
       "  </tbody>\n",
       "</table>\n",
       "</div>"
      ],
      "text/plain": [
       "        anio  jurisdiccion_residencia_id jurisdiccion_residencia_nombre  \\\n",
       "522884  2017                          99                Sin Información   \n",
       "\n",
       "         edad_madre_grupo  instruccion_madre  tipo_de_parto_id  \\\n",
       "522884  9.Sin especificar  8.Sin especificar               NaN   \n",
       "\n",
       "       tipo_de_parto_nombre   semana_gestacion intervalo_peso_al_nacer  \\\n",
       "522884                  NaN  8.Sin especificar       9.Sin especificar   \n",
       "\n",
       "        sexo_id         sexo  nacimientos_cantidad  \n",
       "522884        9  desconocido                    10  "
      ]
     },
     "execution_count": 20,
     "metadata": {},
     "output_type": "execute_result"
    }
   ],
   "source": [
    "df_raw[df_raw[labor].isnull().any(axis=1)]"
   ]
  },
  {
   "cell_type": "code",
   "execution_count": 21,
   "metadata": {},
   "outputs": [],
   "source": [
    "df_raw[labor[0]].fillna(9, inplace=True)\n",
    "df_raw[labor[1]].fillna('Desconocido', inplace=True)"
   ]
  },
  {
   "cell_type": "code",
   "execution_count": 22,
   "metadata": {},
   "outputs": [],
   "source": [
    "df_raw[labor[0]] = df_raw[labor[0]].astype(int)"
   ]
  },
  {
   "cell_type": "code",
   "execution_count": 23,
   "metadata": {},
   "outputs": [
    {
     "name": "stdout",
     "output_type": "stream",
     "text": [
      "Total: 522885\n"
     ]
    },
    {
     "data": {
      "text/html": [
       "<div>\n",
       "<style scoped>\n",
       "    .dataframe tbody tr th:only-of-type {\n",
       "        vertical-align: middle;\n",
       "    }\n",
       "\n",
       "    .dataframe tbody tr th {\n",
       "        vertical-align: top;\n",
       "    }\n",
       "\n",
       "    .dataframe thead th {\n",
       "        text-align: right;\n",
       "    }\n",
       "</style>\n",
       "<table border=\"1\" class=\"dataframe\">\n",
       "  <thead>\n",
       "    <tr style=\"text-align: right;\">\n",
       "      <th></th>\n",
       "      <th>tipo_de_parto_id</th>\n",
       "      <th>tipo_de_parto_nombre</th>\n",
       "      <th>count</th>\n",
       "    </tr>\n",
       "  </thead>\n",
       "  <tbody>\n",
       "    <tr>\n",
       "      <th>0</th>\n",
       "      <td>1</td>\n",
       "      <td>Simple</td>\n",
       "      <td>429752</td>\n",
       "    </tr>\n",
       "    <tr>\n",
       "      <th>1</th>\n",
       "      <td>2</td>\n",
       "      <td>Multiple</td>\n",
       "      <td>87348</td>\n",
       "    </tr>\n",
       "    <tr>\n",
       "      <th>2</th>\n",
       "      <td>9</td>\n",
       "      <td>Desconocido</td>\n",
       "      <td>5785</td>\n",
       "    </tr>\n",
       "  </tbody>\n",
       "</table>\n",
       "</div>"
      ],
      "text/plain": [
       "   tipo_de_parto_id tipo_de_parto_nombre   count\n",
       "0                 1               Simple  429752\n",
       "1                 2             Multiple   87348\n",
       "2                 9          Desconocido    5785"
      ]
     },
     "execution_count": 23,
     "metadata": {},
     "output_type": "execute_result"
    }
   ],
   "source": [
    "(\n",
    "    df_raw[labor]\n",
    "    .value_counts()\n",
    "    .reset_index()\n",
    "    .also(lambda df: print(f\"Total: {df['count'].sum()}\"))\n",
    ")"
   ]
  },
  {
   "cell_type": "markdown",
   "metadata": {},
   "source": [
    "## Others"
   ]
  },
  {
   "cell_type": "code",
   "execution_count": 24,
   "metadata": {},
   "outputs": [
    {
     "name": "stdout",
     "output_type": "stream",
     "text": [
      "edad_madre_grupo\n",
      "1.Menor de 15        13402\n",
      "2.15 a 19            70154\n",
      "3.20 a 24            93766\n",
      "4.25 a 29            97566\n",
      "5.30 a 34            94315\n",
      "6.35 a 39            79155\n",
      "7.40 a 44            46719\n",
      "8.De 45 y más        12186\n",
      "9.Sin especificar    15622\n",
      "Name: count, dtype: int64 \n",
      "\n",
      "instruccion_madre\n",
      "1.Sin instrucción                       16990\n",
      "2.Primaria/C. EGB Incompleta            58545\n",
      "3.Primaria/C. EGB Completa              96921\n",
      "4.Secundaria/Polimodal Incompleta       93768\n",
      "5.Secundaria/Polimodal Completa         98486\n",
      "6.Terciaria/Universitaria Incompleta    53434\n",
      "7.Terciaria/Universitaria Completa      64533\n",
      "8.Sin especificar                       40208\n",
      "Name: count, dtype: int64 \n",
      "\n",
      "semana_gestacion\n",
      "1.Menos de 22          1766\n",
      "2.22 a 23              4505\n",
      "3.24 a 27             18963\n",
      "4.28 a 31             43646\n",
      "5.32 a 36            160328\n",
      "6.37 a 41            217836\n",
      "7.42 y más            27874\n",
      "8.Sin especificar     47967\n",
      "Name: count, dtype: int64 \n",
      "\n",
      "intervalo_peso_al_nacer\n",
      "1.Menor de 500         3146\n",
      "2.500 a 999           25889\n",
      "3.1000 a 1499         39450\n",
      "4.1500 a 1999         56263\n",
      "5.2000 a 2499         85005\n",
      "6.2500 a 2999        104238\n",
      "7.3000 a 3499         98815\n",
      "8.De 3500 y más       84149\n",
      "9.Sin especificar     25930\n",
      "Name: count, dtype: int64 \n",
      "\n",
      "sexo\n",
      "desconocido        3865\n",
      "femenino         256213\n",
      "indeterminado       798\n",
      "masculino        262009\n",
      "Name: count, dtype: int64 \n",
      "\n",
      "sexo_id\n",
      "1    262009\n",
      "2    256213\n",
      "3       798\n",
      "9      3865\n",
      "Name: count, dtype: int64 \n",
      "\n",
      "nacimientos_cantidad\n",
      "1       208091\n",
      "2        79814\n",
      "3        41100\n",
      "4        26337\n",
      "5        18454\n",
      "         ...  \n",
      "4771         1\n",
      "4800         1\n",
      "4849         1\n",
      "4903         1\n",
      "4944         1\n",
      "Name: count, Length: 1978, dtype: int64 \n",
      "\n"
     ]
    }
   ],
   "source": [
    "\n",
    "for col in others:\n",
    "    print(\n",
    "        df_raw[col]\n",
    "        .value_counts()\n",
    "        .sort_index()\n",
    "        ,'\\n'\n",
    "    )"
   ]
  },
  {
   "cell_type": "markdown",
   "metadata": {},
   "source": [
    "Looks right"
   ]
  },
  {
   "cell_type": "markdown",
   "metadata": {},
   "source": [
    "# Export clean dataframe to .csv "
   ]
  },
  {
   "cell_type": "code",
   "execution_count": 25,
   "metadata": {},
   "outputs": [],
   "source": [
    "df_raw.to_csv('../datasets/clean_df.csv',\n",
    "              encoding='utf-8',\n",
    "              header=True,\n",
    "              index=False,\n",
    "              )"
   ]
  }
 ],
 "metadata": {
  "kernelspec": {
   "display_name": "python39",
   "language": "python",
   "name": "python3"
  },
  "language_info": {
   "codemirror_mode": {
    "name": "ipython",
    "version": 3
   },
   "file_extension": ".py",
   "mimetype": "text/x-python",
   "name": "python",
   "nbconvert_exporter": "python",
   "pygments_lexer": "ipython3",
   "version": "3.10.6"
  },
  "orig_nbformat": 4
 },
 "nbformat": 4,
 "nbformat_minor": 2
}
