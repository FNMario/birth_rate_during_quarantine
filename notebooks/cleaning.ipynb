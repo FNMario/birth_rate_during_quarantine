{
 "cells": [
  {
   "cell_type": "markdown",
   "metadata": {},
   "source": [
    "#### Libraries"
   ]
  },
  {
   "cell_type": "code",
   "execution_count": 1,
   "metadata": {},
   "outputs": [],
   "source": [
    "import pandas as pd\n",
    "import janitor\n",
    "import matplotlib.pyplot as plt"
   ]
  },
  {
   "cell_type": "markdown",
   "metadata": {},
   "source": [
    "# Dataset Birthrates"
   ]
  },
  {
   "cell_type": "markdown",
   "metadata": {},
   "source": [
    "## Import the dataset"
   ]
  },
  {
   "cell_type": "markdown",
   "metadata": {},
   "source": [
    "### About the dataset"
   ]
  },
  {
   "cell_type": "markdown",
   "metadata": {},
   "source": [
    "#### Download\n",
    "The dataset is an open dataset downloaded from [datos.gob.ar](https://datos.gob.ar/dataset/salud-tasa-natalidad/archivo/salud_0f68d5c6-e667-40ca-90fd-4784336e092e).\n",
    "```shell\n",
    "wget http://datos.salud.gob.ar/dataset/314e08d7-70a1-4704-aa2f-e86ce03b359d/resource/0f68d5c6-e667-40ca-90fd-4784336e092e/download/tasa-natalidad-deis-2000-2021.csv\n",
    "```\n",
    "### Description\n",
    "Contains the birth rate by province between 2000 and 2021.\n",
    "\n",
    "| Variable | Type | Description |\n",
    "|---|---|---|\n",
    "| indice_tiempo | Fecha ISO-8601 (date)|Periodo de tiempo analizado |\n",
    "| natalidad_argentina | Número decimal (number)|Tasa de Natalidad de Argentina Nacidos |\n",
    "| natalidad_ciudad_autonoma_de_buenos_aires | Número decimal (number)|Tasa de Natalidad de Ciudad Autónoma de Buenos Aires Nacidos |\n",
    "| natalidad_buenos_aires | Número decimal (number)|Tasa de Natalidad de la Provincia de Buenos Aires Nacidos |\n",
    "| natalidad_catamarca | Número decimal (number)|Tasa de Natalidad de la Provincia de Catamarca Nacidos |\n",
    "| natalidad_cordoba | Número decimal (number)|Tasa de Natalidad de la Provincia de Córdoba Nacidos |\n",
    "| natalidad_corrientes | Número decimal (number)|Tasa de Natalidad de la Provincia de Corrientes Nacidos |\n",
    "| natalidad_chaco | Número decimal (number)|Tasa de Natalidad de la Provincia de Chaco Nacidos |\n",
    "| natalidad_chubut | Número decimal (number)|Tasa de Natalidad de la Provincia de Chubut Nacidos |\n",
    "| natalidad_entre_rios | Número decimal (number)|Tasa de Natalidad de la Provincia de Entre Ríos Nacidos |\n",
    "| natalidad_formosa | Número decimal (number)|Tasa de Natalidad de la Provincia de Formosa Nacidos |\n",
    "| natalidad_jujuy | Número decimal (number)|Tasa de Natalidad de la Provincia de Jujuy Nacidos |\n",
    "| natalidad_la_pampa | Número decimal (number)|Tasa de Natalidad de la Provincia de La Pampa Nacidos |\n",
    "| natalidad_la_rioja | Número decimal (number)|Tasa de Natalidad de la Provincia de La Rioja Nacidos |\n",
    "| natalidad_mendoza | Número decimal (number)|Tasa de Natalidad de la Provincia de Mendoza Nacidos |\n",
    "| natalidad_misiones | Número decimal (number)|Tasa de Natalidad de la Provincia de Misiones Nacidos |\n",
    "| natalidad_neuquen | Número decimal (number)|Tasa de Natalidad de la Provincia de Neuquen Nacidos |\n",
    "| natalidad_rio_negro | Número decimal (number)|Tasa de Natalidad de la Provincia de Río Negro Nacidos |\n",
    "| natalidad_salta | Número decimal (number)|Tasa de Natalidad de la Provincia de Salta Nacidos |\n",
    "| natalidad_san_juan | Número decimal (number)|Tasa de Natalidad de la Provincia de San Juan Nacidos |\n",
    "| natalidad_san_luis | Número decimal (number)|Tasa de Natalidad de la Provincia de San Luis Nacidos |\n",
    "| natalidad_santa_cruz | Número decimal (number)|Tasa de Natalidad de la Provincia de Santa Cruz Nacidos |\n",
    "| natalidad_santa_fe | Número decimal (number)|Tasa de Natalidad de la Provincia de Santa Fe Nacidos |\n",
    "| natalidad_santiago_del_estero | Número decimal (number)|Tasa de Natalidad de la Provincia de Santiago del Estero Nacidos |\n",
    "| natalidad_tucuman | Número decimal (number)|Tasa de Natalidad de la Provincia de Tucumán Nacidos |\n",
    "| natalidad_tierra_del_fuego | Número decimal (number)|Tasa de Natalidad de la Provincia de Tierra del Fuego Nacidos |\n"
   ]
  },
  {
   "cell_type": "markdown",
   "metadata": {},
   "source": [
    "### Import"
   ]
  },
  {
   "cell_type": "code",
   "execution_count": 2,
   "metadata": {},
   "outputs": [
    {
     "name": "stdout",
     "output_type": "stream",
     "text": [
      "<class 'pandas.core.frame.DataFrame'>\n",
      "RangeIndex: 22 entries, 0 to 21\n",
      "Data columns (total 26 columns):\n",
      " #   Column                                     Non-Null Count  Dtype  \n",
      "---  ------                                     --------------  -----  \n",
      " 0   indice_tiempo                              22 non-null     object \n",
      " 1   natalidad_argentina                        22 non-null     float64\n",
      " 2   natalidad_ciudad_autonoma_de_buenos_aires  22 non-null     float64\n",
      " 3   natalidad_buenos_aires                     22 non-null     float64\n",
      " 4   natalidad_catamarca                        22 non-null     float64\n",
      " 5   natalidad_cordoba                          22 non-null     float64\n",
      " 6   natalidad_corrientes                       22 non-null     float64\n",
      " 7   natalidad_chaco                            22 non-null     float64\n",
      " 8   natalidad_chubut                           22 non-null     float64\n",
      " 9   natalidad_entre_rios                       22 non-null     float64\n",
      " 10  natalidad_formosa                          22 non-null     float64\n",
      " 11  natalidad_jujuy                            22 non-null     float64\n",
      " 12  natalidad_la_pampa                         22 non-null     float64\n",
      " 13  natalidad_la_rioja                         22 non-null     float64\n",
      " 14  natalidad_mendoza                          22 non-null     float64\n",
      " 15  natalidad_misiones                         22 non-null     float64\n",
      " 16  natalidad_neuquen                          22 non-null     float64\n",
      " 17  natalidad_rio_negro                        22 non-null     float64\n",
      " 18  natalidad_salta                            22 non-null     float64\n",
      " 19  natalidad_san_juan                         22 non-null     float64\n",
      " 20  natalidad_san_luis                         22 non-null     float64\n",
      " 21  natalidad_santa_cruz                       22 non-null     float64\n",
      " 22  natalidad_santa_fe                         22 non-null     float64\n",
      " 23  natalidad_santiago_del_estero              22 non-null     float64\n",
      " 24  natalidad_tucuman                          22 non-null     float64\n",
      " 25  natalidad_tierra_del_fuego                 22 non-null     float64\n",
      "dtypes: float64(25), object(1)\n",
      "memory usage: 4.6+ KB\n"
     ]
    }
   ],
   "source": [
    "df_br = pd.read_csv(r'../datasets/tasa-natalidad-deis-2000-2021.csv')\n",
    "df_br.info()"
   ]
  },
  {
   "cell_type": "markdown",
   "metadata": {},
   "source": [
    "## Cleaning"
   ]
  },
  {
   "cell_type": "code",
   "execution_count": 3,
   "metadata": {},
   "outputs": [],
   "source": [
    "df_br = (\n",
    "    df_br\n",
    "    .rename(columns={'natalidad_ciudad_autonoma_de_buenos_aires':'natalidad_caba'})\n",
    "    .assign(year=lambda df: df.indice_tiempo.apply(lambda value: int(value[:4])))\n",
    "    .drop(columns=['indice_tiempo'])\n",
    ")"
   ]
  },
  {
   "cell_type": "code",
   "execution_count": 4,
   "metadata": {},
   "outputs": [
    {
     "data": {
      "text/html": [
       "<div>\n",
       "<style scoped>\n",
       "    .dataframe tbody tr th:only-of-type {\n",
       "        vertical-align: middle;\n",
       "    }\n",
       "\n",
       "    .dataframe tbody tr th {\n",
       "        vertical-align: top;\n",
       "    }\n",
       "\n",
       "    .dataframe thead th {\n",
       "        text-align: right;\n",
       "    }\n",
       "</style>\n",
       "<table border=\"1\" class=\"dataframe\">\n",
       "  <thead>\n",
       "    <tr style=\"text-align: right;\">\n",
       "      <th></th>\n",
       "      <th>count</th>\n",
       "      <th>mean</th>\n",
       "      <th>std</th>\n",
       "      <th>min</th>\n",
       "      <th>25%</th>\n",
       "      <th>50%</th>\n",
       "      <th>75%</th>\n",
       "      <th>max</th>\n",
       "    </tr>\n",
       "  </thead>\n",
       "  <tbody>\n",
       "    <tr>\n",
       "      <th>natalidad_argentina</th>\n",
       "      <td>22.0</td>\n",
       "      <td>17.240909</td>\n",
       "      <td>2.193857</td>\n",
       "      <td>11.6</td>\n",
       "      <td>16.975</td>\n",
       "      <td>18.05</td>\n",
       "      <td>18.500</td>\n",
       "      <td>19.3</td>\n",
       "    </tr>\n",
       "    <tr>\n",
       "      <th>natalidad_caba</th>\n",
       "      <td>22.0</td>\n",
       "      <td>13.413636</td>\n",
       "      <td>1.851973</td>\n",
       "      <td>8.5</td>\n",
       "      <td>13.225</td>\n",
       "      <td>14.20</td>\n",
       "      <td>14.575</td>\n",
       "      <td>15.1</td>\n",
       "    </tr>\n",
       "    <tr>\n",
       "      <th>natalidad_buenos_aires</th>\n",
       "      <td>22.0</td>\n",
       "      <td>16.690909</td>\n",
       "      <td>2.365206</td>\n",
       "      <td>10.7</td>\n",
       "      <td>16.375</td>\n",
       "      <td>17.60</td>\n",
       "      <td>18.050</td>\n",
       "      <td>18.9</td>\n",
       "    </tr>\n",
       "    <tr>\n",
       "      <th>natalidad_catamarca</th>\n",
       "      <td>22.0</td>\n",
       "      <td>18.000000</td>\n",
       "      <td>3.800376</td>\n",
       "      <td>11.4</td>\n",
       "      <td>16.100</td>\n",
       "      <td>17.30</td>\n",
       "      <td>19.425</td>\n",
       "      <td>25.8</td>\n",
       "    </tr>\n",
       "    <tr>\n",
       "      <th>natalidad_cordoba</th>\n",
       "      <td>22.0</td>\n",
       "      <td>15.990909</td>\n",
       "      <td>1.714062</td>\n",
       "      <td>11.6</td>\n",
       "      <td>15.750</td>\n",
       "      <td>16.50</td>\n",
       "      <td>17.175</td>\n",
       "      <td>17.8</td>\n",
       "    </tr>\n",
       "    <tr>\n",
       "      <th>natalidad_corrientes</th>\n",
       "      <td>22.0</td>\n",
       "      <td>19.381818</td>\n",
       "      <td>2.382203</td>\n",
       "      <td>13.9</td>\n",
       "      <td>18.525</td>\n",
       "      <td>19.50</td>\n",
       "      <td>20.125</td>\n",
       "      <td>23.3</td>\n",
       "    </tr>\n",
       "    <tr>\n",
       "      <th>natalidad_chaco</th>\n",
       "      <td>22.0</td>\n",
       "      <td>20.759091</td>\n",
       "      <td>2.668629</td>\n",
       "      <td>15.3</td>\n",
       "      <td>19.650</td>\n",
       "      <td>20.60</td>\n",
       "      <td>22.500</td>\n",
       "      <td>25.8</td>\n",
       "    </tr>\n",
       "    <tr>\n",
       "      <th>natalidad_chubut</th>\n",
       "      <td>22.0</td>\n",
       "      <td>17.790909</td>\n",
       "      <td>3.196562</td>\n",
       "      <td>10.2</td>\n",
       "      <td>16.725</td>\n",
       "      <td>18.60</td>\n",
       "      <td>20.150</td>\n",
       "      <td>21.4</td>\n",
       "    </tr>\n",
       "    <tr>\n",
       "      <th>natalidad_entre_rios</th>\n",
       "      <td>22.0</td>\n",
       "      <td>17.231818</td>\n",
       "      <td>2.367314</td>\n",
       "      <td>11.7</td>\n",
       "      <td>16.625</td>\n",
       "      <td>17.25</td>\n",
       "      <td>18.700</td>\n",
       "      <td>21.3</td>\n",
       "    </tr>\n",
       "    <tr>\n",
       "      <th>natalidad_formosa</th>\n",
       "      <td>22.0</td>\n",
       "      <td>21.300000</td>\n",
       "      <td>3.032208</td>\n",
       "      <td>14.5</td>\n",
       "      <td>20.100</td>\n",
       "      <td>21.35</td>\n",
       "      <td>22.550</td>\n",
       "      <td>26.5</td>\n",
       "    </tr>\n",
       "    <tr>\n",
       "      <th>natalidad_jujuy</th>\n",
       "      <td>22.0</td>\n",
       "      <td>18.281818</td>\n",
       "      <td>3.175147</td>\n",
       "      <td>10.8</td>\n",
       "      <td>17.100</td>\n",
       "      <td>18.85</td>\n",
       "      <td>19.825</td>\n",
       "      <td>23.1</td>\n",
       "    </tr>\n",
       "    <tr>\n",
       "      <th>natalidad_la_pampa</th>\n",
       "      <td>22.0</td>\n",
       "      <td>15.500000</td>\n",
       "      <td>2.241598</td>\n",
       "      <td>9.9</td>\n",
       "      <td>15.100</td>\n",
       "      <td>16.25</td>\n",
       "      <td>16.775</td>\n",
       "      <td>18.3</td>\n",
       "    </tr>\n",
       "    <tr>\n",
       "      <th>natalidad_la_rioja</th>\n",
       "      <td>22.0</td>\n",
       "      <td>17.695455</td>\n",
       "      <td>2.997694</td>\n",
       "      <td>11.6</td>\n",
       "      <td>16.700</td>\n",
       "      <td>17.45</td>\n",
       "      <td>20.125</td>\n",
       "      <td>22.6</td>\n",
       "    </tr>\n",
       "    <tr>\n",
       "      <th>natalidad_mendoza</th>\n",
       "      <td>22.0</td>\n",
       "      <td>17.645455</td>\n",
       "      <td>2.465520</td>\n",
       "      <td>11.4</td>\n",
       "      <td>17.050</td>\n",
       "      <td>18.75</td>\n",
       "      <td>19.200</td>\n",
       "      <td>20.2</td>\n",
       "    </tr>\n",
       "    <tr>\n",
       "      <th>natalidad_misiones</th>\n",
       "      <td>22.0</td>\n",
       "      <td>21.777273</td>\n",
       "      <td>2.625141</td>\n",
       "      <td>16.1</td>\n",
       "      <td>20.250</td>\n",
       "      <td>22.25</td>\n",
       "      <td>23.325</td>\n",
       "      <td>26.4</td>\n",
       "    </tr>\n",
       "    <tr>\n",
       "      <th>natalidad_neuquen</th>\n",
       "      <td>22.0</td>\n",
       "      <td>18.118182</td>\n",
       "      <td>2.756920</td>\n",
       "      <td>11.6</td>\n",
       "      <td>16.425</td>\n",
       "      <td>19.10</td>\n",
       "      <td>19.950</td>\n",
       "      <td>21.6</td>\n",
       "    </tr>\n",
       "    <tr>\n",
       "      <th>natalidad_rio_negro</th>\n",
       "      <td>22.0</td>\n",
       "      <td>17.395455</td>\n",
       "      <td>2.633570</td>\n",
       "      <td>10.6</td>\n",
       "      <td>16.925</td>\n",
       "      <td>18.25</td>\n",
       "      <td>18.900</td>\n",
       "      <td>20.0</td>\n",
       "    </tr>\n",
       "    <tr>\n",
       "      <th>natalidad_salta</th>\n",
       "      <td>22.0</td>\n",
       "      <td>20.613636</td>\n",
       "      <td>3.044948</td>\n",
       "      <td>12.7</td>\n",
       "      <td>19.825</td>\n",
       "      <td>21.20</td>\n",
       "      <td>21.975</td>\n",
       "      <td>24.7</td>\n",
       "    </tr>\n",
       "    <tr>\n",
       "      <th>natalidad_san_juan</th>\n",
       "      <td>22.0</td>\n",
       "      <td>19.918182</td>\n",
       "      <td>2.575089</td>\n",
       "      <td>14.0</td>\n",
       "      <td>19.000</td>\n",
       "      <td>20.60</td>\n",
       "      <td>21.375</td>\n",
       "      <td>23.7</td>\n",
       "    </tr>\n",
       "    <tr>\n",
       "      <th>natalidad_san_luis</th>\n",
       "      <td>22.0</td>\n",
       "      <td>17.681818</td>\n",
       "      <td>3.335043</td>\n",
       "      <td>11.7</td>\n",
       "      <td>15.625</td>\n",
       "      <td>17.20</td>\n",
       "      <td>20.125</td>\n",
       "      <td>22.3</td>\n",
       "    </tr>\n",
       "    <tr>\n",
       "      <th>natalidad_santa_cruz</th>\n",
       "      <td>22.0</td>\n",
       "      <td>20.086364</td>\n",
       "      <td>4.610268</td>\n",
       "      <td>9.4</td>\n",
       "      <td>18.750</td>\n",
       "      <td>19.80</td>\n",
       "      <td>23.725</td>\n",
       "      <td>26.0</td>\n",
       "    </tr>\n",
       "    <tr>\n",
       "      <th>natalidad_santa_fe</th>\n",
       "      <td>22.0</td>\n",
       "      <td>15.868182</td>\n",
       "      <td>1.632523</td>\n",
       "      <td>11.2</td>\n",
       "      <td>15.725</td>\n",
       "      <td>16.30</td>\n",
       "      <td>16.900</td>\n",
       "      <td>17.6</td>\n",
       "    </tr>\n",
       "    <tr>\n",
       "      <th>natalidad_santiago_del_estero</th>\n",
       "      <td>22.0</td>\n",
       "      <td>19.268182</td>\n",
       "      <td>2.157685</td>\n",
       "      <td>13.8</td>\n",
       "      <td>18.725</td>\n",
       "      <td>19.75</td>\n",
       "      <td>20.500</td>\n",
       "      <td>22.1</td>\n",
       "    </tr>\n",
       "    <tr>\n",
       "      <th>natalidad_tucuman</th>\n",
       "      <td>22.0</td>\n",
       "      <td>18.790909</td>\n",
       "      <td>2.673131</td>\n",
       "      <td>12.8</td>\n",
       "      <td>17.750</td>\n",
       "      <td>19.20</td>\n",
       "      <td>20.050</td>\n",
       "      <td>22.6</td>\n",
       "    </tr>\n",
       "    <tr>\n",
       "      <th>natalidad_tierra_del_fuego</th>\n",
       "      <td>22.0</td>\n",
       "      <td>18.227273</td>\n",
       "      <td>3.051492</td>\n",
       "      <td>9.9</td>\n",
       "      <td>17.375</td>\n",
       "      <td>19.35</td>\n",
       "      <td>20.175</td>\n",
       "      <td>20.8</td>\n",
       "    </tr>\n",
       "    <tr>\n",
       "      <th>year</th>\n",
       "      <td>22.0</td>\n",
       "      <td>2010.500000</td>\n",
       "      <td>6.493587</td>\n",
       "      <td>2000.0</td>\n",
       "      <td>2005.250</td>\n",
       "      <td>2010.50</td>\n",
       "      <td>2015.750</td>\n",
       "      <td>2021.0</td>\n",
       "    </tr>\n",
       "  </tbody>\n",
       "</table>\n",
       "</div>"
      ],
      "text/plain": [
       "                               count         mean       std     min       25%  \\\n",
       "natalidad_argentina             22.0    17.240909  2.193857    11.6    16.975   \n",
       "natalidad_caba                  22.0    13.413636  1.851973     8.5    13.225   \n",
       "natalidad_buenos_aires          22.0    16.690909  2.365206    10.7    16.375   \n",
       "natalidad_catamarca             22.0    18.000000  3.800376    11.4    16.100   \n",
       "natalidad_cordoba               22.0    15.990909  1.714062    11.6    15.750   \n",
       "natalidad_corrientes            22.0    19.381818  2.382203    13.9    18.525   \n",
       "natalidad_chaco                 22.0    20.759091  2.668629    15.3    19.650   \n",
       "natalidad_chubut                22.0    17.790909  3.196562    10.2    16.725   \n",
       "natalidad_entre_rios            22.0    17.231818  2.367314    11.7    16.625   \n",
       "natalidad_formosa               22.0    21.300000  3.032208    14.5    20.100   \n",
       "natalidad_jujuy                 22.0    18.281818  3.175147    10.8    17.100   \n",
       "natalidad_la_pampa              22.0    15.500000  2.241598     9.9    15.100   \n",
       "natalidad_la_rioja              22.0    17.695455  2.997694    11.6    16.700   \n",
       "natalidad_mendoza               22.0    17.645455  2.465520    11.4    17.050   \n",
       "natalidad_misiones              22.0    21.777273  2.625141    16.1    20.250   \n",
       "natalidad_neuquen               22.0    18.118182  2.756920    11.6    16.425   \n",
       "natalidad_rio_negro             22.0    17.395455  2.633570    10.6    16.925   \n",
       "natalidad_salta                 22.0    20.613636  3.044948    12.7    19.825   \n",
       "natalidad_san_juan              22.0    19.918182  2.575089    14.0    19.000   \n",
       "natalidad_san_luis              22.0    17.681818  3.335043    11.7    15.625   \n",
       "natalidad_santa_cruz            22.0    20.086364  4.610268     9.4    18.750   \n",
       "natalidad_santa_fe              22.0    15.868182  1.632523    11.2    15.725   \n",
       "natalidad_santiago_del_estero   22.0    19.268182  2.157685    13.8    18.725   \n",
       "natalidad_tucuman               22.0    18.790909  2.673131    12.8    17.750   \n",
       "natalidad_tierra_del_fuego      22.0    18.227273  3.051492     9.9    17.375   \n",
       "year                            22.0  2010.500000  6.493587  2000.0  2005.250   \n",
       "\n",
       "                                   50%       75%     max  \n",
       "natalidad_argentina              18.05    18.500    19.3  \n",
       "natalidad_caba                   14.20    14.575    15.1  \n",
       "natalidad_buenos_aires           17.60    18.050    18.9  \n",
       "natalidad_catamarca              17.30    19.425    25.8  \n",
       "natalidad_cordoba                16.50    17.175    17.8  \n",
       "natalidad_corrientes             19.50    20.125    23.3  \n",
       "natalidad_chaco                  20.60    22.500    25.8  \n",
       "natalidad_chubut                 18.60    20.150    21.4  \n",
       "natalidad_entre_rios             17.25    18.700    21.3  \n",
       "natalidad_formosa                21.35    22.550    26.5  \n",
       "natalidad_jujuy                  18.85    19.825    23.1  \n",
       "natalidad_la_pampa               16.25    16.775    18.3  \n",
       "natalidad_la_rioja               17.45    20.125    22.6  \n",
       "natalidad_mendoza                18.75    19.200    20.2  \n",
       "natalidad_misiones               22.25    23.325    26.4  \n",
       "natalidad_neuquen                19.10    19.950    21.6  \n",
       "natalidad_rio_negro              18.25    18.900    20.0  \n",
       "natalidad_salta                  21.20    21.975    24.7  \n",
       "natalidad_san_juan               20.60    21.375    23.7  \n",
       "natalidad_san_luis               17.20    20.125    22.3  \n",
       "natalidad_santa_cruz             19.80    23.725    26.0  \n",
       "natalidad_santa_fe               16.30    16.900    17.6  \n",
       "natalidad_santiago_del_estero    19.75    20.500    22.1  \n",
       "natalidad_tucuman                19.20    20.050    22.6  \n",
       "natalidad_tierra_del_fuego       19.35    20.175    20.8  \n",
       "year                           2010.50  2015.750  2021.0  "
      ]
     },
     "execution_count": 4,
     "metadata": {},
     "output_type": "execute_result"
    }
   ],
   "source": [
    "df_br.describe().T"
   ]
  },
  {
   "cell_type": "code",
   "execution_count": 5,
   "metadata": {},
   "outputs": [],
   "source": [
    "df_br = (\n",
    "    df_br\n",
    "    .melt(id_vars='year',\n",
    "          var_name='zone',\n",
    "          value_name='birthrate')\n",
    "    .transform_column('zone', lambda val: val[10:])\n",
    ")"
   ]
  },
  {
   "cell_type": "code",
   "execution_count": 6,
   "metadata": {},
   "outputs": [
    {
     "data": {
      "text/html": [
       "<div>\n",
       "<style scoped>\n",
       "    .dataframe tbody tr th:only-of-type {\n",
       "        vertical-align: middle;\n",
       "    }\n",
       "\n",
       "    .dataframe tbody tr th {\n",
       "        vertical-align: top;\n",
       "    }\n",
       "\n",
       "    .dataframe thead th {\n",
       "        text-align: right;\n",
       "    }\n",
       "</style>\n",
       "<table border=\"1\" class=\"dataframe\">\n",
       "  <thead>\n",
       "    <tr style=\"text-align: right;\">\n",
       "      <th></th>\n",
       "      <th>year</th>\n",
       "      <th>zone</th>\n",
       "      <th>birthrate</th>\n",
       "    </tr>\n",
       "  </thead>\n",
       "  <tbody>\n",
       "    <tr>\n",
       "      <th>134</th>\n",
       "      <td>2002</td>\n",
       "      <td>chaco</td>\n",
       "      <td>24.9</td>\n",
       "    </tr>\n",
       "    <tr>\n",
       "      <th>6</th>\n",
       "      <td>2006</td>\n",
       "      <td>argentina</td>\n",
       "      <td>17.9</td>\n",
       "    </tr>\n",
       "    <tr>\n",
       "      <th>273</th>\n",
       "      <td>2009</td>\n",
       "      <td>la_rioja</td>\n",
       "      <td>17.9</td>\n",
       "    </tr>\n",
       "    <tr>\n",
       "      <th>165</th>\n",
       "      <td>2011</td>\n",
       "      <td>chubut</td>\n",
       "      <td>20.7</td>\n",
       "    </tr>\n",
       "    <tr>\n",
       "      <th>517</th>\n",
       "      <td>2011</td>\n",
       "      <td>tucuman</td>\n",
       "      <td>19.5</td>\n",
       "    </tr>\n",
       "    <tr>\n",
       "      <th>210</th>\n",
       "      <td>2012</td>\n",
       "      <td>formosa</td>\n",
       "      <td>21.0</td>\n",
       "    </tr>\n",
       "    <tr>\n",
       "      <th>211</th>\n",
       "      <td>2013</td>\n",
       "      <td>formosa</td>\n",
       "      <td>21.0</td>\n",
       "    </tr>\n",
       "    <tr>\n",
       "      <th>299</th>\n",
       "      <td>2013</td>\n",
       "      <td>mendoza</td>\n",
       "      <td>18.7</td>\n",
       "    </tr>\n",
       "    <tr>\n",
       "      <th>147</th>\n",
       "      <td>2015</td>\n",
       "      <td>chaco</td>\n",
       "      <td>22.7</td>\n",
       "    </tr>\n",
       "    <tr>\n",
       "      <th>413</th>\n",
       "      <td>2017</td>\n",
       "      <td>san_juan</td>\n",
       "      <td>18.1</td>\n",
       "    </tr>\n",
       "  </tbody>\n",
       "</table>\n",
       "</div>"
      ],
      "text/plain": [
       "     year       zone  birthrate\n",
       "134  2002      chaco       24.9\n",
       "6    2006  argentina       17.9\n",
       "273  2009   la_rioja       17.9\n",
       "165  2011     chubut       20.7\n",
       "517  2011    tucuman       19.5\n",
       "210  2012    formosa       21.0\n",
       "211  2013    formosa       21.0\n",
       "299  2013    mendoza       18.7\n",
       "147  2015      chaco       22.7\n",
       "413  2017   san_juan       18.1"
      ]
     },
     "execution_count": 6,
     "metadata": {},
     "output_type": "execute_result"
    }
   ],
   "source": [
    "df_br.sample(10).sort_values('year')"
   ]
  },
  {
   "cell_type": "markdown",
   "metadata": {},
   "source": [
    "## Export clean dataframe to .csv"
   ]
  },
  {
   "cell_type": "code",
   "execution_count": 7,
   "metadata": {},
   "outputs": [],
   "source": [
    "df_br.to_csv('../datasets/clean_birthrate_df.csv',\n",
    "              encoding='utf-8',\n",
    "              header=True,\n",
    "              index=False,\n",
    "              )"
   ]
  },
  {
   "cell_type": "markdown",
   "metadata": {},
   "source": [
    "# Dataset Births"
   ]
  },
  {
   "cell_type": "markdown",
   "metadata": {},
   "source": [
    "## Import the dataset"
   ]
  },
  {
   "cell_type": "markdown",
   "metadata": {},
   "source": [
    "### About the dataset\n",
    "#### Download\n",
    "The dataset is an open dataset downloaded from [datos.salud.gob.ar](http://www.datos.salud.gob.ar/dataset/nacidos-vivos-registrados-por-jurisdiccion-de-residencia-de-la-madre-republica-argentina-ano-2017/archivo/3c891522-8448-4490-a7da-6deba78d3b32).\n",
    "```shell\n",
    "wget http://datos.salud.gob.ar/dataset/d1350588-d8bb-4892-b21c-48738311e218/resource/3c891522-8448-4490-a7da-6deba78d3b32/download/nacidos-vivos-registrados-en-la-republica-argentina-deis-entre-los-anos-2005-2021.csv\n",
    "```\n",
    "### Description\n",
    "Data on live births registered in the Argentine Republic, including jurisdiction of residence of the mother, type of delivery and other variables of interest selected between the years 2005-2021.\n",
    "\n",
    "| Variable | Type | Description |\n",
    "|---|---|---|\n",
    "| anio | Número entero (number) | Año del nacimiento |\n",
    "| jurisdiccion_de_residencia_id | Número entero (number) | Jurisdicción de residencia de la madre (id). |\n",
    "| jurisdicion_residencia_nombre | Cadena de texto (string) | Jurisdicción de residencia de la madre. |\n",
    "| edad_madre_grupo | Cadena de texto (string)  | Edad de la madre al momento del parto. |\n",
    "| instruccion_madre | Cadena de texto (string) | Nivel de estudios de la madre al momento del parto. |\n",
    "| tipo_de_parto_id | Número entero (number) | Tipo de parto (simple/múltiple) (id). |\n",
    "| tipo_de_parto_nombre | Cadena de texto (string) | Tipo de parto (simple/múltiple). |\n",
    "| semana_gestacion | Cadena de texto (string) | Semana de gestación (intervalo). |\n",
    "| intervalo_peso_al_nacer | Cadena de texto (string) | Peso del recién nacido (intervalo). |\n",
    "| sexo_id | Número entero (number) | Sexo del recién nacido (id). |\n",
    "| Sexo | Cadena de texto (string) | Sexo del recién nacido. |\n",
    "| nacimientos_cantidad | Número entero (number) | Cantidad de nacimientos. |\n"
   ]
  },
  {
   "cell_type": "markdown",
   "metadata": {},
   "source": [
    "### Import"
   ]
  },
  {
   "cell_type": "code",
   "execution_count": 8,
   "metadata": {},
   "outputs": [
    {
     "name": "stdout",
     "output_type": "stream",
     "text": [
      "<class 'pandas.core.frame.DataFrame'>\n",
      "RangeIndex: 522885 entries, 0 to 522884\n",
      "Data columns (total 12 columns):\n",
      " #   Column                         Non-Null Count   Dtype  \n",
      "---  ------                         --------------   -----  \n",
      " 0   anio                           522885 non-null  int64  \n",
      " 1   jurisdiccion_de_residencia_id  522885 non-null  int64  \n",
      " 2   jurisdicion_residencia_nombre  520219 non-null  object \n",
      " 3   edad_madre_grupo               522885 non-null  object \n",
      " 4   instruccion_madre              522885 non-null  object \n",
      " 5   tipo_de_parto_id               522884 non-null  float64\n",
      " 6   tipo_de_parto_nombre           522884 non-null  object \n",
      " 7   semana_gestacion               522885 non-null  object \n",
      " 8   intervalo_peso_al_nacer        522885 non-null  object \n",
      " 9   sexo_id                        522885 non-null  int64  \n",
      " 10  Sexo                           522885 non-null  object \n",
      " 11  nacimientos_cantidad           522885 non-null  int64  \n",
      "dtypes: float64(1), int64(4), object(7)\n",
      "memory usage: 47.9+ MB\n"
     ]
    }
   ],
   "source": [
    "df_b = pd.read_csv(r'../datasets/nacidos-vivos-registrados-en-la-republica-argentina-deis-entre-los-anos-2005-2021.csv',encoding=\"latin\")\n",
    "df_b.info()"
   ]
  },
  {
   "cell_type": "markdown",
   "metadata": {},
   "source": [
    "### Rename some comlumns"
   ]
  },
  {
   "cell_type": "code",
   "execution_count": 9,
   "metadata": {},
   "outputs": [
    {
     "data": {
      "text/plain": [
       "['anio',\n",
       " 'jurisdiccion_de_residencia_id',\n",
       " 'jurisdicion_residencia_nombre',\n",
       " 'edad_madre_grupo',\n",
       " 'instruccion_madre',\n",
       " 'tipo_de_parto_id',\n",
       " 'tipo_de_parto_nombre',\n",
       " 'semana_gestacion',\n",
       " 'intervalo_peso_al_nacer',\n",
       " 'sexo_id',\n",
       " 'Sexo',\n",
       " 'nacimientos_cantidad']"
      ]
     },
     "execution_count": 9,
     "metadata": {},
     "output_type": "execute_result"
    }
   ],
   "source": [
    "df_b.columns.tolist()"
   ]
  },
  {
   "cell_type": "code",
   "execution_count": 10,
   "metadata": {},
   "outputs": [
    {
     "name": "stderr",
     "output_type": "stream",
     "text": [
      "/home/federico/Documents/PersonalProyects/birth_rate_during_quarantine/env/lib/python3.10/site-packages/pandas_flavor/register.py:157: FutureWarning: This function will be deprecated in a 1.x release. Please use `pd.DataFrame.rename` instead.\n",
      "  return method(self._obj, *args, **kwargs)\n"
     ]
    }
   ],
   "source": [
    "df_b = df_b.rename_columns({\n",
    "    'jurisdiccion_de_residencia_id':'jurisdiccion_residencia_id',\n",
    "    'jurisdicion_residencia_nombre':'jurisdiccion_residencia_nombre',\n",
    "    'Sexo':'sexo'\n",
    "})"
   ]
  },
  {
   "cell_type": "code",
   "execution_count": 11,
   "metadata": {},
   "outputs": [],
   "source": [
    "columns = df_b.columns.to_list()"
   ]
  },
  {
   "cell_type": "markdown",
   "metadata": {},
   "source": [
    "## Cleaning"
   ]
  },
  {
   "cell_type": "markdown",
   "metadata": {},
   "source": [
    "### Grouping"
   ]
  },
  {
   "cell_type": "code",
   "execution_count": 12,
   "metadata": {},
   "outputs": [
    {
     "name": "stdout",
     "output_type": "stream",
     "text": [
      "Number of columns with null: 3\n"
     ]
    },
    {
     "name": "stderr",
     "output_type": "stream",
     "text": [
      "/home/federico/Documents/PersonalProyects/birth_rate_during_quarantine/env/lib/python3.10/site-packages/pandas_flavor/register.py:157: FutureWarning: This function will be deprecated in a 1.x release. Please use `pd.DataFrame.rename` instead.\n",
      "  return method(self._obj, *args, **kwargs)\n"
     ]
    },
    {
     "data": {
      "text/html": [
       "<div>\n",
       "<style scoped>\n",
       "    .dataframe tbody tr th:only-of-type {\n",
       "        vertical-align: middle;\n",
       "    }\n",
       "\n",
       "    .dataframe tbody tr th {\n",
       "        vertical-align: top;\n",
       "    }\n",
       "\n",
       "    .dataframe thead th {\n",
       "        text-align: right;\n",
       "    }\n",
       "</style>\n",
       "<table border=\"1\" class=\"dataframe\">\n",
       "  <thead>\n",
       "    <tr style=\"text-align: right;\">\n",
       "      <th></th>\n",
       "      <th>column</th>\n",
       "      <th>has_null</th>\n",
       "    </tr>\n",
       "  </thead>\n",
       "  <tbody>\n",
       "    <tr>\n",
       "      <th>0</th>\n",
       "      <td>anio</td>\n",
       "      <td>False</td>\n",
       "    </tr>\n",
       "    <tr>\n",
       "      <th>1</th>\n",
       "      <td>jurisdiccion_residencia_id</td>\n",
       "      <td>False</td>\n",
       "    </tr>\n",
       "    <tr>\n",
       "      <th>2</th>\n",
       "      <td>jurisdiccion_residencia_nombre</td>\n",
       "      <td>True</td>\n",
       "    </tr>\n",
       "    <tr>\n",
       "      <th>3</th>\n",
       "      <td>edad_madre_grupo</td>\n",
       "      <td>False</td>\n",
       "    </tr>\n",
       "    <tr>\n",
       "      <th>4</th>\n",
       "      <td>instruccion_madre</td>\n",
       "      <td>False</td>\n",
       "    </tr>\n",
       "    <tr>\n",
       "      <th>5</th>\n",
       "      <td>tipo_de_parto_id</td>\n",
       "      <td>True</td>\n",
       "    </tr>\n",
       "    <tr>\n",
       "      <th>6</th>\n",
       "      <td>tipo_de_parto_nombre</td>\n",
       "      <td>True</td>\n",
       "    </tr>\n",
       "    <tr>\n",
       "      <th>7</th>\n",
       "      <td>semana_gestacion</td>\n",
       "      <td>False</td>\n",
       "    </tr>\n",
       "    <tr>\n",
       "      <th>8</th>\n",
       "      <td>intervalo_peso_al_nacer</td>\n",
       "      <td>False</td>\n",
       "    </tr>\n",
       "    <tr>\n",
       "      <th>9</th>\n",
       "      <td>sexo_id</td>\n",
       "      <td>False</td>\n",
       "    </tr>\n",
       "    <tr>\n",
       "      <th>10</th>\n",
       "      <td>sexo</td>\n",
       "      <td>False</td>\n",
       "    </tr>\n",
       "    <tr>\n",
       "      <th>11</th>\n",
       "      <td>nacimientos_cantidad</td>\n",
       "      <td>False</td>\n",
       "    </tr>\n",
       "  </tbody>\n",
       "</table>\n",
       "</div>"
      ],
      "text/plain": [
       "                            column  has_null\n",
       "0                             anio     False\n",
       "1       jurisdiccion_residencia_id     False\n",
       "2   jurisdiccion_residencia_nombre      True\n",
       "3                 edad_madre_grupo     False\n",
       "4                instruccion_madre     False\n",
       "5                 tipo_de_parto_id      True\n",
       "6             tipo_de_parto_nombre      True\n",
       "7                 semana_gestacion     False\n",
       "8          intervalo_peso_al_nacer     False\n",
       "9                          sexo_id     False\n",
       "10                            sexo     False\n",
       "11            nacimientos_cantidad     False"
      ]
     },
     "execution_count": 12,
     "metadata": {},
     "output_type": "execute_result"
    }
   ],
   "source": [
    "(\n",
    "    df_b\n",
    "    .isnull()\n",
    "    .any(axis=0)\n",
    "    .reset_index(name='has_null')\n",
    "    .rename_column('index', 'column')\n",
    "    .also(lambda df: print(f'Number of columns with null: {df.iloc[:,1].sum()}'))\n",
    ")"
   ]
  },
  {
   "cell_type": "markdown",
   "metadata": {},
   "source": [
    "It will be analized in groups"
   ]
  },
  {
   "cell_type": "code",
   "execution_count": 13,
   "metadata": {},
   "outputs": [],
   "source": [
    "year = 'anio'\n",
    "jurisdiction = {'id'    :'jurisdiccion_residencia_id',\n",
    "                'nombre':'jurisdiccion_residencia_nombre'}\n",
    "labor = ['tipo_de_parto_id',\n",
    "         'tipo_de_parto_nombre']\n",
    "others = ['edad_madre_grupo',\n",
    "          'instruccion_madre',\n",
    "          'semana_gestacion',\n",
    "          'intervalo_peso_al_nacer',\n",
    "          'sexo',\n",
    "          'sexo_id',\n",
    "          'nacimientos_cantidad']\n",
    "\n"
   ]
  },
  {
   "cell_type": "markdown",
   "metadata": {},
   "source": [
    "### Year's distribution"
   ]
  },
  {
   "cell_type": "code",
   "execution_count": 14,
   "metadata": {},
   "outputs": [
    {
     "name": "stdout",
     "output_type": "stream",
     "text": [
      "Unexpected exception formatting exception. Falling back to standard exception\n"
     ]
    },
    {
     "name": "stderr",
     "output_type": "stream",
     "text": [
      "Traceback (most recent call last):\n",
      "  File \"/home/federico/Documents/PersonalProyects/birth_rate_during_quarantine/env/lib/python3.10/site-packages/IPython/core/interactiveshell.py\", line 3508, in run_code\n",
      "  File \"/tmp/ipykernel_12666/3437068480.py\", line 6, in <module>\n",
      "    .bar()\n",
      "  File \"/home/federico/Documents/PersonalProyects/birth_rate_during_quarantine/env/lib/python3.10/site-packages/pandas/plotting/_core.py\", line 1136, in bar\n",
      "    return self(kind=\"bar\", x=x, y=y, **kwargs)\n",
      "  File \"/home/federico/Documents/PersonalProyects/birth_rate_during_quarantine/env/lib/python3.10/site-packages/pandas/plotting/_core.py\", line 975, in __call__\n",
      "    return plot_backend.plot(data, kind=kind, **kwargs)\n",
      "  File \"/home/federico/Documents/PersonalProyects/birth_rate_during_quarantine/env/lib/python3.10/site-packages/pandas/plotting/_matplotlib/__init__.py\", line 71, in plot\n",
      "    plot_obj.generate()\n",
      "  File \"/home/federico/Documents/PersonalProyects/birth_rate_during_quarantine/env/lib/python3.10/site-packages/pandas/plotting/_matplotlib/core.py\", line 447, in generate\n",
      "    self._setup_subplots()\n",
      "  File \"/home/federico/Documents/PersonalProyects/birth_rate_during_quarantine/env/lib/python3.10/site-packages/pandas/plotting/_matplotlib/core.py\", line 509, in _setup_subplots\n",
      "    fig = self.plt.figure(figsize=self.figsize)\n",
      "  File \"/home/federico/Documents/PersonalProyects/birth_rate_during_quarantine/env/lib/python3.10/site-packages/matplotlib/_api/deprecation.py\", line 454, in wrapper\n",
      "    return func(*args, **kwargs)\n",
      "  File \"/home/federico/Documents/PersonalProyects/birth_rate_during_quarantine/env/lib/python3.10/site-packages/matplotlib/pyplot.py\", line 840, in figure\n",
      "    manager = new_figure_manager(\n",
      "  File \"/home/federico/Documents/PersonalProyects/birth_rate_during_quarantine/env/lib/python3.10/site-packages/matplotlib/pyplot.py\", line 383, in new_figure_manager\n",
      "    _warn_if_gui_out_of_main_thread()\n",
      "  File \"/home/federico/Documents/PersonalProyects/birth_rate_during_quarantine/env/lib/python3.10/site-packages/matplotlib/pyplot.py\", line 361, in _warn_if_gui_out_of_main_thread\n",
      "    if _get_required_interactive_framework(_get_backend_mod()):\n",
      "  File \"/home/federico/Documents/PersonalProyects/birth_rate_during_quarantine/env/lib/python3.10/site-packages/matplotlib/pyplot.py\", line 208, in _get_backend_mod\n",
      "    switch_backend(rcParams._get(\"backend\"))\n",
      "  File \"/home/federico/Documents/PersonalProyects/birth_rate_during_quarantine/env/lib/python3.10/site-packages/matplotlib/pyplot.py\", line 271, in switch_backend\n",
      "    backend_mod = importlib.import_module(\n",
      "  File \"/usr/lib/python3.10/importlib/__init__.py\", line 126, in import_module\n",
      "    return _bootstrap._gcd_import(name[level:], package, level)\n",
      "  File \"<frozen importlib._bootstrap>\", line 1050, in _gcd_import\n",
      "  File \"<frozen importlib._bootstrap>\", line 1027, in _find_and_load\n",
      "  File \"<frozen importlib._bootstrap>\", line 992, in _find_and_load_unlocked\n",
      "  File \"<frozen importlib._bootstrap>\", line 241, in _call_with_frames_removed\n",
      "  File \"<frozen importlib._bootstrap>\", line 1050, in _gcd_import\n",
      "  File \"<frozen importlib._bootstrap>\", line 1027, in _find_and_load\n",
      "  File \"<frozen importlib._bootstrap>\", line 1004, in _find_and_load_unlocked\n",
      "ModuleNotFoundError: No module named 'matplotlib_inline'\n",
      "\n",
      "During handling of the above exception, another exception occurred:\n",
      "\n",
      "Traceback (most recent call last):\n",
      "  File \"/home/federico/Documents/PersonalProyects/birth_rate_during_quarantine/env/lib/python3.10/site-packages/pygments/styles/__init__.py\", line 90, in get_style_by_name\n",
      "ModuleNotFoundError: No module named 'pygments.styles.default'\n",
      "\n",
      "During handling of the above exception, another exception occurred:\n",
      "\n",
      "Traceback (most recent call last):\n",
      "  File \"/home/federico/Documents/PersonalProyects/birth_rate_during_quarantine/env/lib/python3.10/site-packages/IPython/core/interactiveshell.py\", line 2105, in showtraceback\n",
      "  File \"/home/federico/Documents/PersonalProyects/birth_rate_during_quarantine/env/lib/python3.10/site-packages/IPython/core/ultratb.py\", line 1428, in structured_traceback\n",
      "  File \"/home/federico/Documents/PersonalProyects/birth_rate_during_quarantine/env/lib/python3.10/site-packages/IPython/core/ultratb.py\", line 1319, in structured_traceback\n",
      "  File \"/home/federico/Documents/PersonalProyects/birth_rate_during_quarantine/env/lib/python3.10/site-packages/IPython/core/ultratb.py\", line 1172, in structured_traceback\n",
      "  File \"/home/federico/Documents/PersonalProyects/birth_rate_during_quarantine/env/lib/python3.10/site-packages/IPython/core/ultratb.py\", line 1062, in format_exception_as_a_whole\n",
      "  File \"/home/federico/Documents/PersonalProyects/birth_rate_during_quarantine/env/lib/python3.10/site-packages/IPython/core/ultratb.py\", line 1113, in get_records\n",
      "  File \"/home/federico/Documents/PersonalProyects/birth_rate_during_quarantine/env/lib/python3.10/site-packages/pygments/styles/__init__.py\", line 92, in get_style_by_name\n",
      "pygments.util.ClassNotFound: Could not find style module 'default', though it should be builtin.\n"
     ]
    }
   ],
   "source": [
    "(\n",
    "    df_b[year]\n",
    "    .value_counts()\n",
    "    .sort_index()\n",
    "    .plot\n",
    "    .bar()\n",
    ")"
   ]
  },
  {
   "cell_type": "markdown",
   "metadata": {},
   "source": [
    "Looks right"
   ]
  },
  {
   "cell_type": "markdown",
   "metadata": {},
   "source": [
    "### Jurisdiction"
   ]
  },
  {
   "cell_type": "code",
   "execution_count": 15,
   "metadata": {},
   "outputs": [
    {
     "data": {
      "text/plain": [
       "2666"
      ]
     },
     "execution_count": 15,
     "metadata": {},
     "output_type": "execute_result"
    }
   ],
   "source": [
    "df_b[jurisdiction['nombre']].isnull().sum()"
   ]
  },
  {
   "cell_type": "code",
   "execution_count": 16,
   "metadata": {},
   "outputs": [
    {
     "data": {
      "text/plain": [
       "array(['Santa Fe', 'Ciudad Autónoma de Buenos Aires', 'Río Negro',\n",
       "       'Chaco', 'Mendoza', 'La Pampa', 'Corrientes', 'Buenos Aires',\n",
       "       'Chubut', 'Salta', 'Córdoba', 'Formosa', 'Misiones',\n",
       "       'Santiago del Estero', 'San Luis', nan, 'Catamarca', 'Santa Cruz',\n",
       "       'Entre Ríos', 'San Juan', 'Jujuy', 'Tucumán', 'Neuquén',\n",
       "       'La Rioja',\n",
       "       'Tierra del Fuego, Antártida e Islas del Atlántico Sur',\n",
       "       'Sin Información'], dtype=object)"
      ]
     },
     "execution_count": 16,
     "metadata": {},
     "output_type": "execute_result"
    }
   ],
   "source": [
    "df_b[jurisdiction['nombre']].unique()"
   ]
  },
  {
   "cell_type": "code",
   "execution_count": 17,
   "metadata": {},
   "outputs": [
    {
     "data": {
      "text/plain": [
       "0"
      ]
     },
     "execution_count": 17,
     "metadata": {},
     "output_type": "execute_result"
    }
   ],
   "source": [
    "df_b[jurisdiction['id']].isnull().sum()"
   ]
  },
  {
   "cell_type": "code",
   "execution_count": 18,
   "metadata": {},
   "outputs": [
    {
     "data": {
      "text/plain": [
       "jurisdiccion_residencia_id\n",
       "98    2666\n",
       "Name: count, dtype: int64"
      ]
     },
     "execution_count": 18,
     "metadata": {},
     "output_type": "execute_result"
    }
   ],
   "source": [
    "df_b[df_b[jurisdiction['nombre']].isnull()]['jurisdiccion_residencia_id'].value_counts()"
   ]
  },
  {
   "cell_type": "code",
   "execution_count": 19,
   "metadata": {},
   "outputs": [
    {
     "data": {
      "text/plain": [
       "jurisdiccion_residencia_id\n",
       "99    6929\n",
       "Name: count, dtype: int64"
      ]
     },
     "execution_count": 19,
     "metadata": {},
     "output_type": "execute_result"
    }
   ],
   "source": [
    "df_b[df_b[jurisdiction['nombre']] == 'Sin Información'][jurisdiction['id']].value_counts()"
   ]
  },
  {
   "cell_type": "markdown",
   "metadata": {},
   "source": [
    "jurisdiction id 98 is converted to 99, equivalent of 'Sin Información' ('no data')"
   ]
  },
  {
   "cell_type": "code",
   "execution_count": 20,
   "metadata": {},
   "outputs": [],
   "source": [
    "df_b[jurisdiction['nombre']].fillna('Sin Información', inplace=True)\n",
    "df_b[jurisdiction['id']] = df_b[jurisdiction['id']].replace(\n",
    "    98, 99)"
   ]
  },
  {
   "cell_type": "code",
   "execution_count": 21,
   "metadata": {},
   "outputs": [
    {
     "name": "stdout",
     "output_type": "stream",
     "text": [
      "Cantidad total: 522885\n"
     ]
    },
    {
     "name": "stderr",
     "output_type": "stream",
     "text": [
      "/home/federico/Documents/PersonalProyects/birth_rate_during_quarantine/env/lib/python3.10/site-packages/pandas_flavor/register.py:157: FutureWarning: This function will be deprecated in a 1.x release. Please use `pd.DataFrame.rename` instead.\n",
      "  return method(self._obj, *args, **kwargs)\n"
     ]
    },
    {
     "data": {
      "text/html": [
       "<div>\n",
       "<style scoped>\n",
       "    .dataframe tbody tr th:only-of-type {\n",
       "        vertical-align: middle;\n",
       "    }\n",
       "\n",
       "    .dataframe tbody tr th {\n",
       "        vertical-align: top;\n",
       "    }\n",
       "\n",
       "    .dataframe thead th {\n",
       "        text-align: right;\n",
       "    }\n",
       "</style>\n",
       "<table border=\"1\" class=\"dataframe\">\n",
       "  <thead>\n",
       "    <tr style=\"text-align: right;\">\n",
       "      <th></th>\n",
       "      <th></th>\n",
       "      <th>cantidad</th>\n",
       "    </tr>\n",
       "    <tr>\n",
       "      <th>jurisdiccion_residencia_id</th>\n",
       "      <th>jurisdiccion_residencia_nombre</th>\n",
       "      <th></th>\n",
       "    </tr>\n",
       "  </thead>\n",
       "  <tbody>\n",
       "    <tr>\n",
       "      <th>6</th>\n",
       "      <th>Buenos Aires</th>\n",
       "      <td>71368</td>\n",
       "    </tr>\n",
       "    <tr>\n",
       "      <th>14</th>\n",
       "      <th>Córdoba</th>\n",
       "      <td>30647</td>\n",
       "    </tr>\n",
       "    <tr>\n",
       "      <th>82</th>\n",
       "      <th>Santa Fe</th>\n",
       "      <td>30492</td>\n",
       "    </tr>\n",
       "    <tr>\n",
       "      <th>2</th>\n",
       "      <th>Ciudad Autónoma de Buenos Aires</th>\n",
       "      <td>29825</td>\n",
       "    </tr>\n",
       "    <tr>\n",
       "      <th>90</th>\n",
       "      <th>Tucumán</th>\n",
       "      <td>27137</td>\n",
       "    </tr>\n",
       "    <tr>\n",
       "      <th>22</th>\n",
       "      <th>Chaco</th>\n",
       "      <td>27079</td>\n",
       "    </tr>\n",
       "    <tr>\n",
       "      <th>18</th>\n",
       "      <th>Corrientes</th>\n",
       "      <td>26312</td>\n",
       "    </tr>\n",
       "    <tr>\n",
       "      <th>54</th>\n",
       "      <th>Misiones</th>\n",
       "      <td>26112</td>\n",
       "    </tr>\n",
       "    <tr>\n",
       "      <th>66</th>\n",
       "      <th>Salta</th>\n",
       "      <td>24708</td>\n",
       "    </tr>\n",
       "    <tr>\n",
       "      <th>30</th>\n",
       "      <th>Entre Ríos</th>\n",
       "      <td>21965</td>\n",
       "    </tr>\n",
       "    <tr>\n",
       "      <th>50</th>\n",
       "      <th>Mendoza</th>\n",
       "      <td>21251</td>\n",
       "    </tr>\n",
       "    <tr>\n",
       "      <th>86</th>\n",
       "      <th>Santiago del Estero</th>\n",
       "      <td>20291</td>\n",
       "    </tr>\n",
       "    <tr>\n",
       "      <th>34</th>\n",
       "      <th>Formosa</th>\n",
       "      <td>16531</td>\n",
       "    </tr>\n",
       "    <tr>\n",
       "      <th>62</th>\n",
       "      <th>Río Negro</th>\n",
       "      <td>15461</td>\n",
       "    </tr>\n",
       "    <tr>\n",
       "      <th>38</th>\n",
       "      <th>Jujuy</th>\n",
       "      <td>15282</td>\n",
       "    </tr>\n",
       "    <tr>\n",
       "      <th>70</th>\n",
       "      <th>San Juan</th>\n",
       "      <td>14916</td>\n",
       "    </tr>\n",
       "    <tr>\n",
       "      <th>58</th>\n",
       "      <th>Neuquén</th>\n",
       "      <td>13913</td>\n",
       "    </tr>\n",
       "    <tr>\n",
       "      <th>10</th>\n",
       "      <th>Catamarca</th>\n",
       "      <td>13330</td>\n",
       "    </tr>\n",
       "    <tr>\n",
       "      <th>74</th>\n",
       "      <th>San Luis</th>\n",
       "      <td>13244</td>\n",
       "    </tr>\n",
       "    <tr>\n",
       "      <th>26</th>\n",
       "      <th>Chubut</th>\n",
       "      <td>12856</td>\n",
       "    </tr>\n",
       "    <tr>\n",
       "      <th>46</th>\n",
       "      <th>La Rioja</th>\n",
       "      <td>11648</td>\n",
       "    </tr>\n",
       "    <tr>\n",
       "      <th>78</th>\n",
       "      <th>Santa Cruz</th>\n",
       "      <td>11589</td>\n",
       "    </tr>\n",
       "    <tr>\n",
       "      <th>42</th>\n",
       "      <th>La Pampa</th>\n",
       "      <td>9980</td>\n",
       "    </tr>\n",
       "    <tr>\n",
       "      <th>99</th>\n",
       "      <th>Sin Información</th>\n",
       "      <td>9595</td>\n",
       "    </tr>\n",
       "    <tr>\n",
       "      <th>94</th>\n",
       "      <th>Tierra del Fuego, Antártida e Islas del Atlántico Sur</th>\n",
       "      <td>7353</td>\n",
       "    </tr>\n",
       "  </tbody>\n",
       "</table>\n",
       "</div>"
      ],
      "text/plain": [
       "                                                                               cantidad\n",
       "jurisdiccion_residencia_id jurisdiccion_residencia_nombre                              \n",
       "6                          Buenos Aires                                           71368\n",
       "14                         Córdoba                                                30647\n",
       "82                         Santa Fe                                               30492\n",
       "2                          Ciudad Autónoma de Buenos Aires                        29825\n",
       "90                         Tucumán                                                27137\n",
       "22                         Chaco                                                  27079\n",
       "18                         Corrientes                                             26312\n",
       "54                         Misiones                                               26112\n",
       "66                         Salta                                                  24708\n",
       "30                         Entre Ríos                                             21965\n",
       "50                         Mendoza                                                21251\n",
       "86                         Santiago del Estero                                    20291\n",
       "34                         Formosa                                                16531\n",
       "62                         Río Negro                                              15461\n",
       "38                         Jujuy                                                  15282\n",
       "70                         San Juan                                               14916\n",
       "58                         Neuquén                                                13913\n",
       "10                         Catamarca                                              13330\n",
       "74                         San Luis                                               13244\n",
       "26                         Chubut                                                 12856\n",
       "46                         La Rioja                                               11648\n",
       "78                         Santa Cruz                                             11589\n",
       "42                         La Pampa                                                9980\n",
       "99                         Sin Información                                         9595\n",
       "94                         Tierra del Fuego, Antártida e Islas del Atlánti...      7353"
      ]
     },
     "execution_count": 21,
     "metadata": {},
     "output_type": "execute_result"
    }
   ],
   "source": [
    "(\n",
    "    df_b\n",
    "    .loc[:,list(jurisdiction.values()) + ['nacimientos_cantidad']]\n",
    "    .groupby(list(jurisdiction.values()))\n",
    "    .count()\n",
    "    .rename_column('nacimientos_cantidad','cantidad')\n",
    "    .sort_values('cantidad', ascending=False)\n",
    "    # .reset_index()\n",
    "    .also(lambda df: print(f'Cantidad total: {df.cantidad.sum()}'))\n",
    ")"
   ]
  },
  {
   "cell_type": "code",
   "execution_count": 22,
   "metadata": {},
   "outputs": [
    {
     "data": {
      "text/plain": [
       "0"
      ]
     },
     "execution_count": 22,
     "metadata": {},
     "output_type": "execute_result"
    }
   ],
   "source": [
    "df_b[jurisdiction.values()].isnull().any().sum()"
   ]
  },
  {
   "cell_type": "markdown",
   "metadata": {},
   "source": [
    "### Labor"
   ]
  },
  {
   "cell_type": "code",
   "execution_count": 23,
   "metadata": {},
   "outputs": [
    {
     "name": "stdout",
     "output_type": "stream",
     "text": [
      "Total: 522884\n"
     ]
    },
    {
     "data": {
      "text/html": [
       "<div>\n",
       "<style scoped>\n",
       "    .dataframe tbody tr th:only-of-type {\n",
       "        vertical-align: middle;\n",
       "    }\n",
       "\n",
       "    .dataframe tbody tr th {\n",
       "        vertical-align: top;\n",
       "    }\n",
       "\n",
       "    .dataframe thead th {\n",
       "        text-align: right;\n",
       "    }\n",
       "</style>\n",
       "<table border=\"1\" class=\"dataframe\">\n",
       "  <thead>\n",
       "    <tr style=\"text-align: right;\">\n",
       "      <th></th>\n",
       "      <th>tipo_de_parto_id</th>\n",
       "      <th>tipo_de_parto_nombre</th>\n",
       "      <th>count</th>\n",
       "    </tr>\n",
       "  </thead>\n",
       "  <tbody>\n",
       "    <tr>\n",
       "      <th>0</th>\n",
       "      <td>1.0</td>\n",
       "      <td>Simple</td>\n",
       "      <td>429752</td>\n",
       "    </tr>\n",
       "    <tr>\n",
       "      <th>1</th>\n",
       "      <td>2.0</td>\n",
       "      <td>Multiple</td>\n",
       "      <td>87348</td>\n",
       "    </tr>\n",
       "    <tr>\n",
       "      <th>2</th>\n",
       "      <td>9.0</td>\n",
       "      <td>Desconocido</td>\n",
       "      <td>5784</td>\n",
       "    </tr>\n",
       "  </tbody>\n",
       "</table>\n",
       "</div>"
      ],
      "text/plain": [
       "   tipo_de_parto_id tipo_de_parto_nombre   count\n",
       "0               1.0               Simple  429752\n",
       "1               2.0             Multiple   87348\n",
       "2               9.0          Desconocido    5784"
      ]
     },
     "execution_count": 23,
     "metadata": {},
     "output_type": "execute_result"
    }
   ],
   "source": [
    "(\n",
    "    df_b[labor]\n",
    "    .value_counts()\n",
    "    .reset_index()\n",
    "    .also(lambda df: print(f\"Total: {df['count'].sum()}\"))\n",
    ")"
   ]
  },
  {
   "cell_type": "code",
   "execution_count": 24,
   "metadata": {},
   "outputs": [
    {
     "name": "stdout",
     "output_type": "stream",
     "text": [
      "tipo_de_parto_id : [ 1.  2.  9. nan]\n",
      "tipo_de_parto_nombre : ['Simple' 'Multiple' 'Desconocido' nan]\n"
     ]
    }
   ],
   "source": [
    "for col in labor:\n",
    "    print(col,':', df_b[col].unique())"
   ]
  },
  {
   "cell_type": "code",
   "execution_count": 25,
   "metadata": {},
   "outputs": [
    {
     "data": {
      "text/plain": [
       "tipo_de_parto_id        1\n",
       "tipo_de_parto_nombre    1\n",
       "dtype: int64"
      ]
     },
     "execution_count": 25,
     "metadata": {},
     "output_type": "execute_result"
    }
   ],
   "source": [
    "df_b[labor].isnull().sum()"
   ]
  },
  {
   "cell_type": "code",
   "execution_count": 26,
   "metadata": {},
   "outputs": [
    {
     "data": {
      "text/html": [
       "<div>\n",
       "<style scoped>\n",
       "    .dataframe tbody tr th:only-of-type {\n",
       "        vertical-align: middle;\n",
       "    }\n",
       "\n",
       "    .dataframe tbody tr th {\n",
       "        vertical-align: top;\n",
       "    }\n",
       "\n",
       "    .dataframe thead th {\n",
       "        text-align: right;\n",
       "    }\n",
       "</style>\n",
       "<table border=\"1\" class=\"dataframe\">\n",
       "  <thead>\n",
       "    <tr style=\"text-align: right;\">\n",
       "      <th></th>\n",
       "      <th>anio</th>\n",
       "      <th>jurisdiccion_residencia_id</th>\n",
       "      <th>jurisdiccion_residencia_nombre</th>\n",
       "      <th>edad_madre_grupo</th>\n",
       "      <th>instruccion_madre</th>\n",
       "      <th>tipo_de_parto_id</th>\n",
       "      <th>tipo_de_parto_nombre</th>\n",
       "      <th>semana_gestacion</th>\n",
       "      <th>intervalo_peso_al_nacer</th>\n",
       "      <th>sexo_id</th>\n",
       "      <th>sexo</th>\n",
       "      <th>nacimientos_cantidad</th>\n",
       "    </tr>\n",
       "  </thead>\n",
       "  <tbody>\n",
       "    <tr>\n",
       "      <th>522884</th>\n",
       "      <td>2017</td>\n",
       "      <td>99</td>\n",
       "      <td>Sin Información</td>\n",
       "      <td>9.Sin especificar</td>\n",
       "      <td>8.Sin especificar</td>\n",
       "      <td>NaN</td>\n",
       "      <td>NaN</td>\n",
       "      <td>8.Sin especificar</td>\n",
       "      <td>9.Sin especificar</td>\n",
       "      <td>9</td>\n",
       "      <td>desconocido</td>\n",
       "      <td>10</td>\n",
       "    </tr>\n",
       "  </tbody>\n",
       "</table>\n",
       "</div>"
      ],
      "text/plain": [
       "        anio  jurisdiccion_residencia_id jurisdiccion_residencia_nombre  \\\n",
       "522884  2017                          99                Sin Información   \n",
       "\n",
       "         edad_madre_grupo  instruccion_madre  tipo_de_parto_id  \\\n",
       "522884  9.Sin especificar  8.Sin especificar               NaN   \n",
       "\n",
       "       tipo_de_parto_nombre   semana_gestacion intervalo_peso_al_nacer  \\\n",
       "522884                  NaN  8.Sin especificar       9.Sin especificar   \n",
       "\n",
       "        sexo_id         sexo  nacimientos_cantidad  \n",
       "522884        9  desconocido                    10  "
      ]
     },
     "execution_count": 26,
     "metadata": {},
     "output_type": "execute_result"
    }
   ],
   "source": [
    "df_b[df_b[labor].isnull().any(axis=1)]"
   ]
  },
  {
   "cell_type": "code",
   "execution_count": 27,
   "metadata": {},
   "outputs": [],
   "source": [
    "df_b[labor[0]].fillna(9, inplace=True)\n",
    "df_b[labor[1]].fillna('Desconocido', inplace=True)"
   ]
  },
  {
   "cell_type": "code",
   "execution_count": 28,
   "metadata": {},
   "outputs": [],
   "source": [
    "df_b[labor[0]] = df_b[labor[0]].astype(int)"
   ]
  },
  {
   "cell_type": "code",
   "execution_count": 29,
   "metadata": {},
   "outputs": [
    {
     "name": "stdout",
     "output_type": "stream",
     "text": [
      "Total: 522885\n"
     ]
    },
    {
     "data": {
      "text/html": [
       "<div>\n",
       "<style scoped>\n",
       "    .dataframe tbody tr th:only-of-type {\n",
       "        vertical-align: middle;\n",
       "    }\n",
       "\n",
       "    .dataframe tbody tr th {\n",
       "        vertical-align: top;\n",
       "    }\n",
       "\n",
       "    .dataframe thead th {\n",
       "        text-align: right;\n",
       "    }\n",
       "</style>\n",
       "<table border=\"1\" class=\"dataframe\">\n",
       "  <thead>\n",
       "    <tr style=\"text-align: right;\">\n",
       "      <th></th>\n",
       "      <th>tipo_de_parto_id</th>\n",
       "      <th>tipo_de_parto_nombre</th>\n",
       "      <th>count</th>\n",
       "    </tr>\n",
       "  </thead>\n",
       "  <tbody>\n",
       "    <tr>\n",
       "      <th>0</th>\n",
       "      <td>1</td>\n",
       "      <td>Simple</td>\n",
       "      <td>429752</td>\n",
       "    </tr>\n",
       "    <tr>\n",
       "      <th>1</th>\n",
       "      <td>2</td>\n",
       "      <td>Multiple</td>\n",
       "      <td>87348</td>\n",
       "    </tr>\n",
       "    <tr>\n",
       "      <th>2</th>\n",
       "      <td>9</td>\n",
       "      <td>Desconocido</td>\n",
       "      <td>5785</td>\n",
       "    </tr>\n",
       "  </tbody>\n",
       "</table>\n",
       "</div>"
      ],
      "text/plain": [
       "   tipo_de_parto_id tipo_de_parto_nombre   count\n",
       "0                 1               Simple  429752\n",
       "1                 2             Multiple   87348\n",
       "2                 9          Desconocido    5785"
      ]
     },
     "execution_count": 29,
     "metadata": {},
     "output_type": "execute_result"
    }
   ],
   "source": [
    "(\n",
    "    df_b[labor]\n",
    "    .value_counts()\n",
    "    .reset_index()\n",
    "    .also(lambda df: print(f\"Total: {df['count'].sum()}\"))\n",
    ")"
   ]
  },
  {
   "cell_type": "markdown",
   "metadata": {},
   "source": [
    "### Others"
   ]
  },
  {
   "cell_type": "code",
   "execution_count": 30,
   "metadata": {},
   "outputs": [
    {
     "name": "stdout",
     "output_type": "stream",
     "text": [
      "edad_madre_grupo\n",
      "1.Menor de 15        13402\n",
      "2.15 a 19            70154\n",
      "3.20 a 24            93766\n",
      "4.25 a 29            97566\n",
      "5.30 a 34            94315\n",
      "6.35 a 39            79155\n",
      "7.40 a 44            46719\n",
      "8.De 45 y más        12186\n",
      "9.Sin especificar    15622\n",
      "Name: count, dtype: int64 \n",
      "\n",
      "instruccion_madre\n",
      "1.Sin instrucción                       16990\n",
      "2.Primaria/C. EGB Incompleta            58545\n",
      "3.Primaria/C. EGB Completa              96921\n",
      "4.Secundaria/Polimodal Incompleta       93768\n",
      "5.Secundaria/Polimodal Completa         98486\n",
      "6.Terciaria/Universitaria Incompleta    53434\n",
      "7.Terciaria/Universitaria Completa      64533\n",
      "8.Sin especificar                       40208\n",
      "Name: count, dtype: int64 \n",
      "\n",
      "semana_gestacion\n",
      "1.Menos de 22          1766\n",
      "2.22 a 23              4505\n",
      "3.24 a 27             18963\n",
      "4.28 a 31             43646\n",
      "5.32 a 36            160328\n",
      "6.37 a 41            217836\n",
      "7.42 y más            27874\n",
      "8.Sin especificar     47967\n",
      "Name: count, dtype: int64 \n",
      "\n",
      "intervalo_peso_al_nacer\n",
      "1.Menor de 500         3146\n",
      "2.500 a 999           25889\n",
      "3.1000 a 1499         39450\n",
      "4.1500 a 1999         56263\n",
      "5.2000 a 2499         85005\n",
      "6.2500 a 2999        104238\n",
      "7.3000 a 3499         98815\n",
      "8.De 3500 y más       84149\n",
      "9.Sin especificar     25930\n",
      "Name: count, dtype: int64 \n",
      "\n",
      "sexo\n",
      "desconocido        3865\n",
      "femenino         256213\n",
      "indeterminado       798\n",
      "masculino        262009\n",
      "Name: count, dtype: int64 \n",
      "\n",
      "sexo_id\n",
      "1    262009\n",
      "2    256213\n",
      "3       798\n",
      "9      3865\n",
      "Name: count, dtype: int64 \n",
      "\n",
      "nacimientos_cantidad\n",
      "1       208091\n",
      "2        79814\n",
      "3        41100\n",
      "4        26337\n",
      "5        18454\n",
      "         ...  \n",
      "4771         1\n",
      "4800         1\n",
      "4849         1\n",
      "4903         1\n",
      "4944         1\n",
      "Name: count, Length: 1978, dtype: int64 \n",
      "\n"
     ]
    }
   ],
   "source": [
    "\n",
    "for col in others:\n",
    "    print(\n",
    "        df_b[col]\n",
    "        .value_counts()\n",
    "        .sort_index()\n",
    "        ,'\\n'\n",
    "    )"
   ]
  },
  {
   "cell_type": "markdown",
   "metadata": {},
   "source": [
    "Looks right"
   ]
  },
  {
   "cell_type": "markdown",
   "metadata": {},
   "source": [
    "## Export clean dataframe to .csv "
   ]
  },
  {
   "cell_type": "code",
   "execution_count": 31,
   "metadata": {},
   "outputs": [],
   "source": [
    "df_b.to_csv('../datasets/clean_births_df.csv',\n",
    "              encoding='utf-8',\n",
    "              header=True,\n",
    "              index=False,\n",
    "              )"
   ]
  }
 ],
 "metadata": {
  "kernelspec": {
   "display_name": "python39",
   "language": "python",
   "name": "python3"
  },
  "language_info": {
   "codemirror_mode": {
    "name": "ipython",
    "version": 3
   },
   "file_extension": ".py",
   "mimetype": "text/x-python",
   "name": "python",
   "nbconvert_exporter": "python",
   "pygments_lexer": "ipython3",
   "version": "3.10.6"
  },
  "orig_nbformat": 4
 },
 "nbformat": 4,
 "nbformat_minor": 2
}
